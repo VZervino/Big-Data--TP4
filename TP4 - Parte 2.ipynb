{
 "cells": [
  {
   "cell_type": "markdown",
   "id": "f354d2c2-9403-4d64-8a0b-6d2e83291c25",
   "metadata": {},
   "source": [
    "Big Data - TP 4 Parte 2 "
   ]
  }
 ],
 "metadata": {
  "kernelspec": {
   "display_name": "Python 3 (ipykernel)",
   "language": "python",
   "name": "python3"
  },
  "language_info": {
   "codemirror_mode": {
    "name": "ipython",
    "version": 3
   },
   "file_extension": ".py",
   "mimetype": "text/x-python",
   "name": "python",
   "nbconvert_exporter": "python",
   "pygments_lexer": "ipython3",
   "version": "3.11.7"
  }
 },
 "nbformat": 4,
 "nbformat_minor": 5
}
