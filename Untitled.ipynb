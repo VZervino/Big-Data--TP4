{
 "cells": [
  {
   "cell_type": "code",
   "execution_count": 1,
   "id": "0f0bb81f-c410-4a70-9db6-3d8b04fd8d6f",
   "metadata": {},
   "outputs": [],
   "source": [
    "import pandas as pd"
   ]
  },
  {
   "cell_type": "code",
   "execution_count": 5,
   "id": "d81f0de8-3c57-4e8f-8e64-9b6fba60604c",
   "metadata": {},
   "outputs": [],
   "source": [
    "#Parte 1\n",
    "\n",
    "#2.\n",
    "# Abrimos la base de datos\n",
    "EPH_ind = 'usu_individual_T423.xlsx'\n",
    "EPH_ind = pd.read_excel(EPH_ind)\n",
    "EPH_hogar = 'usu_hogar_T423.xlsx'\n",
    "EPH_hogar = pd.read_excel(EPH_hogar)"
   ]
  },
  {
   "cell_type": "code",
   "execution_count": 10,
   "id": "8f9ef9fe-1ed6-46c6-a589-a67f5d80615e",
   "metadata": {},
   "outputs": [
    {
     "name": "stdout",
     "output_type": "stream",
     "text": [
      "                              CODUSU  ANO4  TRIMESTRE  NRO_HOGAR  COMPONENTE  \\\n",
      "109    TQRMNOTUUHJMLPCDEIIAD00801670  2023          4          1           1   \n",
      "110    TQRMNOTUUHJMLPCDEIIAD00801670  2023          4          1           2   \n",
      "111    TQRMNOPUUHJKLQCDEIIAD00793187  2023          4          1           1   \n",
      "112    TQRMNOPUUHJKLQCDEIIAD00793187  2023          4          1           2   \n",
      "113    TQRMNOPUTHKLMNCDEIIAD00791268  2023          4          1           1   \n",
      "...                              ...   ...        ...        ...         ...   \n",
      "45768  TQRMNOSRQHLMNSCDEIJAH00855730  2023          4          1           2   \n",
      "45769  TQRMNOSRQHLMNSCDEIJAH00855730  2023          4          1           3   \n",
      "45770  TQRMNOVTYHLMNUCDEIJAH00855731  2023          4          1           1   \n",
      "45771  TQRMNOVTYHLMNUCDEIJAH00855731  2023          4          1           2   \n",
      "45772  TQRMNOVTYHLMNUCDEIJAH00855731  2023          4          1           3   \n",
      "\n",
      "       H15  REGION MAS_500  AGLOMERADO  PONDERA  ...  PDECIFR  ADECIFR  \\\n",
      "109      1       1       S          32     1775  ...      NaN        5   \n",
      "110      1       1       S          32     1775  ...      NaN        5   \n",
      "111      2       1       S          32      609  ...      NaN       12   \n",
      "112      1       1       S          32      609  ...      NaN       12   \n",
      "113      1       1       S          32     3129  ...      NaN        8   \n",
      "...    ...     ...     ...         ...      ...  ...      ...      ...   \n",
      "45768    1       1       S          33     1230  ...      NaN        9   \n",
      "45769    0       1       S          33     1230  ...      NaN        9   \n",
      "45770    1       1       S          33     1316  ...      NaN        3   \n",
      "45771    1       1       S          33     1316  ...      NaN        3   \n",
      "45772    1       1       S          33     1316  ...      NaN        3   \n",
      "\n",
      "            IPCF  DECCFR  IDECCFR  RDECCFR  GDECCFR  PDECCFR  ADECCFR  PONDIH  \n",
      "109    225000.00       8      NaN        8      8.0      NaN        5    3079  \n",
      "110    225000.00       8      NaN        8      8.0      NaN        5    3079  \n",
      "111         0.00      12      NaN       12     12.0      NaN       12       0  \n",
      "112         0.00      12      NaN       12     12.0      NaN       12       0  \n",
      "113    266666.67       9      NaN        8      8.0      NaN        6    4648  \n",
      "...          ...     ...      ...      ...      ...      ...      ...     ...  \n",
      "45768  266666.67       9      NaN        8      8.0      NaN        9    2145  \n",
      "45769  266666.67       9      NaN        8      8.0      NaN        9    2145  \n",
      "45770   80000.00       3      NaN        3      3.0      NaN        3    2192  \n",
      "45771   80000.00       3      NaN        3      3.0      NaN        3    2192  \n",
      "45772   80000.00       3      NaN        3      3.0      NaN        3    2192  \n",
      "\n",
      "[7380 rows x 177 columns]\n"
     ]
    }
   ],
   "source": [
    "print(EPH_ind)"
   ]
  },
  {
   "cell_type": "code",
   "execution_count": 9,
   "id": "18d99cc1-12dc-4cb6-b629-f3e75bf5a09d",
   "metadata": {},
   "outputs": [
    {
     "name": "stdout",
     "output_type": "stream",
     "text": [
      "                              CODUSU  ANO4  TRIMESTRE  NRO_HOGAR  REALIZADA  \\\n",
      "21     TQRMNOTPRHLLLNCDEIIAD00854774  2023          4          1          1   \n",
      "33     TQRMNOSPPHLNMQCDEIJAH00854986  2023          4          1          1   \n",
      "34     TQRMNOTQWHMKMQCDEIJAH00812571  2023          4          1          1   \n",
      "61     TQRMNOQRWHLMOLCDEIJAH00855003  2023          4          1          1   \n",
      "62     TQRMNOQXWHJLOTCDEIJAH00802521  2023          4          1          1   \n",
      "...                              ...   ...        ...        ...        ...   \n",
      "16412  TQRMNORWSHLMPPCDEIJAH00855726  2023          4          1          1   \n",
      "16413  TQRMNOPVRHMMNPCDEIIAD00811951  2023          4          1          1   \n",
      "16414  TQRMNOSPTHMMNPCDEIIAD00811945  2023          4          1          1   \n",
      "16415  TQRMNOSWYHMNNRCDEIIAD00811896  2023          4          1          1   \n",
      "16416  TQRMNOUWVHJNNPCDEIIAD00854977  2023          4          1          1   \n",
      "\n",
      "       REGION MAS_500  AGLOMERADO  PONDERA  IV1  ... GDECCFR  PDECCFR  \\\n",
      "21          1       S          32     2317    2  ...    12.0      NaN   \n",
      "33          1       S          33     2431    1  ...     1.0      NaN   \n",
      "34          1       S          33     4054    1  ...     9.0      NaN   \n",
      "61          1       S          33     2142    1  ...     3.0      NaN   \n",
      "62          1       S          33     1464    1  ...    12.0      NaN   \n",
      "...       ...     ...         ...      ...  ...  ...     ...      ...   \n",
      "16412       1       S          33     1964    1  ...     9.0      NaN   \n",
      "16413       1       S          32     1964    2  ...    12.0      NaN   \n",
      "16414       1       S          32     2043    2  ...     8.0      NaN   \n",
      "16415       1       S          32     3897    2  ...    12.0      NaN   \n",
      "16416       1       S          32     2651    2  ...    12.0      NaN   \n",
      "\n",
      "       ADECCFR PONDIH  VII1_1  VII1_2  VII2_1  VII2_2 VII2_3  VII2_4  \n",
      "21          12      0       1       0      98       0      0       0  \n",
      "33           1   3628       1       0       2       0      0       0  \n",
      "34           9   6943       1       2      98       0      0       0  \n",
      "61           4   5401       2       0      98       0      0       0  \n",
      "62          12      0       2       1      98       0      0       0  \n",
      "...        ...    ...     ...     ...     ...     ...    ...     ...  \n",
      "16412        9   1886       1       0      98       0      0       0  \n",
      "16413       12      0       1       2      98       0      0       0  \n",
      "16414        6   3543       1       2      98       0      0       0  \n",
      "16415       12      0      98       0      98       0      0       0  \n",
      "16416       12      0       1       2       3       0      0       0  \n",
      "\n",
      "[2672 rows x 88 columns]\n"
     ]
    }
   ],
   "source": [
    "print(EPH_hogar)"
   ]
  },
  {
   "cell_type": "code",
   "execution_count": 8,
   "id": "e3362216-c1a5-4594-baf0-f0a9e917e392",
   "metadata": {},
   "outputs": [],
   "source": [
    "#Eliminamos todas las observaciones que no corresponden a los aglomerados de Ciudad Autonoma de Buenos Aires o Gran Buenos Aires.\n",
    "EPH_ind = EPH_ind[(EPH_ind['AGLOMERADO'] == 32) | (EPH_ind['AGLOMERADO'] == 33)]\n",
    "EPH_hogar = EPH_hogar[(EPH_hogar['AGLOMERADO'] == 32) | (EPH_hogar['AGLOMERADO'] == 33)]"
   ]
  },
  {
   "cell_type": "code",
   "execution_count": 12,
   "id": "0a485bbe-921d-498d-a131-16f488d1913c",
   "metadata": {},
   "outputs": [],
   "source": [
    "# Unimos las bases de datos\n",
    "EPH = pd.merge(EPH_ind, EPH_hogar, on=['CODUSU', 'NRO_HOGAR'])"
   ]
  },
  {
   "cell_type": "code",
   "execution_count": 15,
   "id": "773281c1-2409-4773-ace6-1fb22b7ce36a",
   "metadata": {},
   "outputs": [
    {
     "name": "stdout",
     "output_type": "stream",
     "text": [
      "                             CODUSU  ANO4_x  TRIMESTRE_x  NRO_HOGAR  \\\n",
      "0     TQRMNOTUUHJMLPCDEIIAD00801670    2023            4          1   \n",
      "1     TQRMNOTUUHJMLPCDEIIAD00801670    2023            4          1   \n",
      "2     TQRMNOPUUHJKLQCDEIIAD00793187    2023            4          1   \n",
      "3     TQRMNOPUUHJKLQCDEIIAD00793187    2023            4          1   \n",
      "4     TQRMNOPUTHKLMNCDEIIAD00791268    2023            4          1   \n",
      "...                             ...     ...          ...        ...   \n",
      "7375  TQRMNOSRQHLMNSCDEIJAH00855730    2023            4          1   \n",
      "7376  TQRMNOSRQHLMNSCDEIJAH00855730    2023            4          1   \n",
      "7377  TQRMNOVTYHLMNUCDEIJAH00855731    2023            4          1   \n",
      "7378  TQRMNOVTYHLMNUCDEIJAH00855731    2023            4          1   \n",
      "7379  TQRMNOVTYHLMNUCDEIJAH00855731    2023            4          1   \n",
      "\n",
      "      COMPONENTE  H15  REGION_x MAS_500_x  AGLOMERADO_x  PONDERA_x  ...  \\\n",
      "0              1    1         1         S            32       1775  ...   \n",
      "1              2    1         1         S            32       1775  ...   \n",
      "2              1    2         1         S            32        609  ...   \n",
      "3              2    1         1         S            32        609  ...   \n",
      "4              1    1         1         S            32       3129  ...   \n",
      "...          ...  ...       ...       ...           ...        ...  ...   \n",
      "7375           2    1         1         S            33       1230  ...   \n",
      "7376           3    0         1         S            33       1230  ...   \n",
      "7377           1    1         1         S            33       1316  ...   \n",
      "7378           2    1         1         S            33       1316  ...   \n",
      "7379           3    1         1         S            33       1316  ...   \n",
      "\n",
      "      GDECCFR_y  PDECCFR_y ADECCFR_y  PONDIH_y  VII1_1  VII1_2  VII2_1  \\\n",
      "0           8.0        NaN         5      3079       2       0      98   \n",
      "1           8.0        NaN         5      3079       2       0      98   \n",
      "2          12.0        NaN        12         0       2       0      98   \n",
      "3          12.0        NaN        12         0       2       0      98   \n",
      "4           8.0        NaN         6      4648       1       0      98   \n",
      "...         ...        ...       ...       ...     ...     ...     ...   \n",
      "7375        8.0        NaN         9      2145       1       2      98   \n",
      "7376        8.0        NaN         9      2145       1       2      98   \n",
      "7377        3.0        NaN         3      2192       1       0      98   \n",
      "7378        3.0        NaN         3      2192       1       0      98   \n",
      "7379        3.0        NaN         3      2192       1       0      98   \n",
      "\n",
      "      VII2_2  VII2_3  VII2_4  \n",
      "0          0       0       0  \n",
      "1          0       0       0  \n",
      "2          0       0       0  \n",
      "3          0       0       0  \n",
      "4          0       0       0  \n",
      "...      ...     ...     ...  \n",
      "7375       0       0       0  \n",
      "7376       0       0       0  \n",
      "7377       0       0       0  \n",
      "7378       0       0       0  \n",
      "7379       0       0       0  \n",
      "\n",
      "[7380 rows x 263 columns]\n"
     ]
    }
   ],
   "source": [
    "print(EPH)"
   ]
  },
  {
   "cell_type": "code",
   "execution_count": 14,
   "id": "96507625-8c0f-4268-a8c4-a13b46210c63",
   "metadata": {},
   "outputs": [],
   "source": [
    "EPH.drop_duplicates(inplace=True)"
   ]
  },
  {
   "cell_type": "code",
   "execution_count": 36,
   "id": "13d971f0-bb7f-43be-bad5-2da1f71d84df",
   "metadata": {},
   "outputs": [
    {
     "name": "stdout",
     "output_type": "stream",
     "text": [
      "CH14: 3821\n",
      "CH15_COD: 6049\n",
      "CH16_COD: 7265\n",
      "IMPUTA: 7314\n",
      "PP03C: 3890\n",
      "PP03D: 3890\n",
      "PP3E_TOT: 3890\n",
      "PP3F_TOT: 3890\n",
      "PP03G: 3890\n",
      "PP03H: 3890\n",
      "PP03I: 3890\n",
      "PP03J: 3890\n",
      "INTENSI: 3890\n",
      "PP04A: 3890\n",
      "PP04B_COD: 3890\n",
      "PP04B1: 3890\n",
      "PP04B2: 3890\n",
      "PP04B3_MES: 3890\n",
      "PP04B3_ANO: 3890\n",
      "PP04B3_DIA: 3890\n",
      "PP04C: 3890\n",
      "PP04C99: 3890\n",
      "PP04D_COD: 3890\n",
      "PP04G: 3890\n",
      "PP05B2_MES: 3890\n",
      "PP05B2_ANO: 3890\n",
      "PP05B2_DIA: 3890\n",
      "PP05C_1: 3890\n",
      "PP05C_2: 3890\n",
      "PP05C_3: 3890\n",
      "PP05E: 3890\n",
      "PP05F: 3890\n",
      "PP05H: 3890\n",
      "PP06A: 3890\n",
      "PP06C: 3890\n",
      "PP06D: 3890\n",
      "PP06E: 3890\n",
      "PP06H: 3890\n",
      "PP07A: 3890\n",
      "PP07C: 3890\n",
      "PP07D: 3890\n",
      "PP07E: 3890\n",
      "PP07F1: 3890\n",
      "PP07F2: 3890\n",
      "PP07F3: 3890\n",
      "PP07F4: 3890\n",
      "PP07F5: 3890\n",
      "PP07G1: 3890\n",
      "PP07G2: 3890\n",
      "PP07G3: 3890\n",
      "PP07G4: 3890\n",
      "PP07G_59: 3890\n",
      "PP07H: 3890\n",
      "PP07I: 3890\n",
      "PP07J: 3890\n",
      "PP07K: 3890\n",
      "PP08D1: 3890\n",
      "PP08D4: 3890\n",
      "PP08F1: 3890\n",
      "PP08F2: 3890\n",
      "PP08J1: 3890\n",
      "PP08J2: 3890\n",
      "PP08J3: 3890\n",
      "PP09A: 3890\n",
      "PP09A_ESP: 7364\n",
      "PP09B: 3890\n",
      "PP09C: 3890\n",
      "PP09C_ESP: 7380\n",
      "PP10A: 7140\n",
      "PP10C: 7140\n",
      "PP10D: 7140\n",
      "PP10E: 7140\n",
      "PP11A: 7140\n",
      "PP11B_COD: 7140\n",
      "PP11B1: 7140\n",
      "PP11B2_MES: 7140\n",
      "PP11B2_ANO: 7140\n",
      "PP11B2_DIA: 7140\n",
      "PP11C: 7140\n",
      "PP11C99: 7140\n",
      "PP11D_COD: 7211\n",
      "PP11G_ANO: 7140\n",
      "PP11G_MES: 7140\n",
      "PP11G_DIA: 7140\n",
      "PP11L: 7140\n",
      "PP11L1: 7140\n",
      "PP11M: 7140\n",
      "PP11N: 7140\n",
      "PP11O: 7140\n",
      "PP11P: 7140\n",
      "PP11Q: 7140\n",
      "PP11R: 7140\n",
      "PP11S: 7140\n",
      "PP11T: 7140\n",
      "IDECOCUR: 7380\n",
      "PDECOCUR: 7380\n",
      "P47T: 37\n",
      "IDECINDR: 7380\n",
      "PDECINDR: 7380\n",
      "IDECIFR_x: 7380\n",
      "PDECIFR_x: 7380\n",
      "IDECCFR_x: 7380\n",
      "PDECCFR_x: 7380\n",
      "IV1_ESP: 7359\n",
      "IV3_ESP: 7373\n",
      "IV7_ESP: 7349\n",
      "II7_ESP: 7364\n",
      "II8_ESP: 7172\n",
      "IDECIFR_y: 7380\n",
      "PDECIFR_y: 7380\n",
      "IDECCFR_y: 7380\n",
      "PDECCFR_y: 7380\n"
     ]
    }
   ],
   "source": [
    "# 3.\n",
    "# Limpieza de base de datos\n",
    "# Obtenemos el resumen de los missings\n",
    "missing_values = EPH.isna().sum()\n",
    "columnas_con_missings = missing_values[missing_values > 0]\n",
    "\n",
    "# Imprimimos los nombres de las variables que tienen missings\n",
    "for column, count in columnas_con_missings.items():\n",
    "    print(f\"{column}: {count}\")"
   ]
  },
  {
   "cell_type": "code",
   "execution_count": 26,
   "id": "35f18f1d-b32c-41b8-8692-d672ca207c86",
   "metadata": {},
   "outputs": [
    {
     "name": "stdout",
     "output_type": "stream",
     "text": [
      "['CODUSU', 'ANO4_x', 'TRIMESTRE_x', 'NRO_HOGAR', 'COMPONENTE', 'H15', 'REGION_x', 'MAS_500_x', 'AGLOMERADO_x', 'PONDERA_x', 'CH03', 'CH04', 'CH05', 'CH06', 'CH07', 'CH08', 'CH09', 'CH10', 'CH11', 'CH12', 'CH13', 'CH14', 'CH15', 'CH15_COD', 'CH16', 'CH16_COD', 'NIVEL_ED', 'ESTADO', 'CAT_OCUP', 'CAT_INAC', 'IMPUTA', 'PP02C1', 'PP02C2', 'PP02C3', 'PP02C4', 'PP02C5', 'PP02C6', 'PP02C7', 'PP02C8', 'PP02E', 'PP02H', 'PP02I', 'PP03C', 'PP03D', 'PP3E_TOT', 'PP3F_TOT', 'PP03G', 'PP03H', 'PP03I', 'PP03J', 'INTENSI', 'PP04A', 'PP04B_COD', 'PP04B1', 'PP04B2', 'PP04B3_MES', 'PP04B3_ANO', 'PP04B3_DIA', 'PP04C', 'PP04C99', 'PP04D_COD', 'PP04G', 'PP05B2_MES', 'PP05B2_ANO', 'PP05B2_DIA', 'PP05C_1', 'PP05C_2', 'PP05C_3', 'PP05E', 'PP05F', 'PP05H', 'PP06A', 'PP06C', 'PP06D', 'PP06E', 'PP06H', 'PP07A', 'PP07C', 'PP07D', 'PP07E', 'PP07F1', 'PP07F2', 'PP07F3', 'PP07F4', 'PP07F5', 'PP07G1', 'PP07G2', 'PP07G3', 'PP07G4', 'PP07G_59', 'PP07H', 'PP07I', 'PP07J', 'PP07K', 'PP08D1', 'PP08D4', 'PP08F1', 'PP08F2', 'PP08J1', 'PP08J2', 'PP08J3', 'PP09A', 'PP09A_ESP', 'PP09B', 'PP09C', 'PP09C_ESP', 'PP10A', 'PP10C', 'PP10D', 'PP10E', 'PP11A', 'PP11B_COD', 'PP11B1', 'PP11B2_MES', 'PP11B2_ANO', 'PP11B2_DIA', 'PP11C', 'PP11C99', 'PP11D_COD', 'PP11G_ANO', 'PP11G_MES', 'PP11G_DIA', 'PP11L', 'PP11L1', 'PP11M', 'PP11N', 'PP11O', 'PP11P', 'PP11Q', 'PP11R', 'PP11S', 'PP11T', 'P21', 'DECOCUR', 'IDECOCUR', 'RDECOCUR', 'GDECOCUR', 'PDECOCUR', 'ADECOCUR', 'PONDIIO', 'TOT_P12', 'P47T', 'DECINDR', 'IDECINDR', 'RDECINDR', 'GDECINDR', 'PDECINDR', 'ADECINDR', 'PONDII', 'V2_M', 'V3_M', 'V4_M', 'V5_M', 'V8_M', 'V9_M', 'V10_M', 'V11_M', 'V12_M', 'V18_M', 'V19_AM', 'V21_M', 'T_VI', 'ITF_x', 'DECIFR_x', 'IDECIFR_x', 'RDECIFR_x', 'GDECIFR_x', 'PDECIFR_x', 'ADECIFR_x', 'IPCF_x', 'DECCFR_x', 'IDECCFR_x', 'RDECCFR_x', 'GDECCFR_x', 'PDECCFR_x', 'ADECCFR_x', 'PONDIH_x', 'ANO4_y', 'TRIMESTRE_y', 'REALIZADA', 'REGION_y', 'MAS_500_y', 'AGLOMERADO_y', 'PONDERA_y', 'IV1', 'IV1_ESP', 'IV2', 'IV3', 'IV3_ESP', 'IV4', 'IV5', 'IV6', 'IV7', 'IV7_ESP', 'IV8', 'IV9', 'IV10', 'IV11', 'IV12_1', 'IV12_2', 'IV12_3', 'II1', 'II2', 'II3', 'II3_1', 'II4_1', 'II4_2', 'II4_3', 'II5', 'II5_1', 'II6', 'II6_1', 'II7', 'II7_ESP', 'II8', 'II8_ESP', 'II9', 'V1', 'V2', 'V21', 'V22', 'V3', 'V4', 'V5', 'V6', 'V7', 'V8', 'V9', 'V10', 'V11', 'V12', 'V13', 'V14', 'V15', 'V16', 'V17', 'V18', 'V19_A', 'V19_B', 'IX_TOT', 'IX_MEN10', 'IX_MAYEQ10', 'ITF_y', 'DECIFR_y', 'IDECIFR_y', 'RDECIFR_y', 'GDECIFR_y', 'PDECIFR_y', 'ADECIFR_y', 'IPCF_y', 'DECCFR_y', 'IDECCFR_y', 'RDECCFR_y', 'GDECCFR_y', 'PDECCFR_y', 'ADECCFR_y', 'PONDIH_y', 'VII1_1', 'VII1_2', 'VII2_1', 'VII2_2', 'VII2_3', 'VII2_4']\n"
     ]
    }
   ],
   "source": [
    "columns_list = EPH.columns.tolist()\n",
    "print(columns_list)"
   ]
  },
  {
   "cell_type": "code",
   "execution_count": 27,
   "id": "6554973d-dbc8-4886-b8ef-6919a88f65bc",
   "metadata": {},
   "outputs": [],
   "source": [
    "# 4.\n",
    "# Proporción de niños en el hogar:\n",
    "EPH['proporcion_niños'] = EPH['IX_MEN10'] / EPH['IX_TOT']"
   ]
  },
  {
   "cell_type": "code",
   "execution_count": null,
   "id": "3b513627-d82e-4e71-a84d-959111fcbd33",
   "metadata": {},
   "outputs": [],
   "source": []
  }
 ],
 "metadata": {
  "kernelspec": {
   "display_name": "Python 3 (ipykernel)",
   "language": "python",
   "name": "python3"
  },
  "language_info": {
   "codemirror_mode": {
    "name": "ipython",
    "version": 3
   },
   "file_extension": ".py",
   "mimetype": "text/x-python",
   "name": "python",
   "nbconvert_exporter": "python",
   "pygments_lexer": "ipython3",
   "version": "3.11.7"
  }
 },
 "nbformat": 4,
 "nbformat_minor": 5
}
