{
 "cells": [
  {
   "cell_type": "code",
   "execution_count": 2,
   "id": "0f0bb81f-c410-4a70-9db6-3d8b04fd8d6f",
   "metadata": {},
   "outputs": [],
   "source": [
    "import pandas as pd"
   ]
  },
  {
   "cell_type": "code",
   "execution_count": 11,
   "id": "d81f0de8-3c57-4e8f-8e64-9b6fba60604c",
   "metadata": {},
   "outputs": [],
   "source": [
    "#Parte 1\n",
    "\n",
    "#2.\n",
    "# Abrimos la base de datos\n",
    "EPH_ind = 'usu_individual_T423.xlsx'\n",
    "EPH_ind = pd.read_excel(EPH_ind)\n",
    "EPH_hogar = 'usu_hogar_T423.xlsx'\n",
    "EPH_ind = pd.read_excel(EPH_hogar)"
   ]
  },
  {
   "cell_type": "code",
   "execution_count": 12,
   "id": "8f9ef9fe-1ed6-46c6-a589-a67f5d80615e",
   "metadata": {},
   "outputs": [
    {
     "name": "stdout",
     "output_type": "stream",
     "text": [
      "                              CODUSU  ANO4  TRIMESTRE  NRO_HOGAR  REALIZADA  \\\n",
      "0      TQRMNORSQHKMKUCDEIGED00791045  2023          4          2          1   \n",
      "1      TQRMNOPVSHJMLNCDEIGED00801502  2023          4          1          1   \n",
      "2      TQRMNORTYHMLKPCDEHJGH00810920  2023          4          1          1   \n",
      "3      TQRMNOQTWHKLKQCDEHJGH00790284  2023          4          2          1   \n",
      "4      TQRMNORQVHLLKRCDEHJGH00853836  2023          4          1          1   \n",
      "...                              ...   ...        ...        ...        ...   \n",
      "16457  TQRMNOQQYHLOLMCDEFMDB00852214  2023          4          1          1   \n",
      "16458  TQRMNOUQYHLOLNCDEFMDB00852215  2023          4          1          1   \n",
      "16459  TQRMNOTRWHLOKNCDEGKDB00853136  2023          4          1          1   \n",
      "16460  TQRMNOSXQHJMKQCDEGKDB00794419  2023          4          1          1   \n",
      "16461  TQRMNOPUQHMLLPCDEOHCH00813298  2023          4          1          1   \n",
      "\n",
      "       REGION MAS_500  AGLOMERADO  PONDERA  IV1  ... GDECCFR  PDECCFR  \\\n",
      "0          43       N          30      107    1  ...     NaN      9.0   \n",
      "1          43       N          30      137    1  ...     NaN     12.0   \n",
      "2          40       S          23      356    2  ...     7.0      NaN   \n",
      "3          40       S          23      299    1  ...     1.0      NaN   \n",
      "4          40       S          23      221    1  ...     6.0      NaN   \n",
      "...       ...     ...         ...      ...  ...  ...     ...      ...   \n",
      "16457      43       N           6      170    2  ...     NaN     12.0   \n",
      "16458      43       N           6      249    1  ...     NaN     12.0   \n",
      "16459      43       N          14      110    6  ...     NaN      2.0   \n",
      "16460      43       N          14       92    1  ...     NaN     12.0   \n",
      "16461      44       N          91      176    2  ...     NaN      8.0   \n",
      "\n",
      "       ADECCFR PONDIH  VII1_1  VII1_2  VII2_1  VII2_2 VII2_3  VII2_4  \n",
      "0            7    128       1       0      98       0      0       0  \n",
      "1           12      0       1       0       2       0      0       0  \n",
      "2            8    329       2       0       1       0      0       0  \n",
      "3            1    320       1       0       2       0      0       0  \n",
      "4            8    193       1       0      96       0      0       0  \n",
      "...        ...    ...     ...     ...     ...     ...    ...     ...  \n",
      "16457       12      0       2       0      98       0      0       0  \n",
      "16458       12      0       1       0      98       0      0       0  \n",
      "16459        2    114       1       0      98       0      0       0  \n",
      "16460       12      0       1       7       8       3      0       0  \n",
      "16461        8    172       1       0      98       0      0       0  \n",
      "\n",
      "[16462 rows x 88 columns]\n"
     ]
    }
   ],
   "source": [
    "print(EPH_ind)"
   ]
  },
  {
   "cell_type": "code",
   "execution_count": 13,
   "id": "18d99cc1-12dc-4cb6-b629-f3e75bf5a09d",
   "metadata": {},
   "outputs": [
    {
     "name": "stdout",
     "output_type": "stream",
     "text": [
      "usu_hogar_T423.xlsx\n"
     ]
    }
   ],
   "source": [
    "print(EPH_hogar)"
   ]
  },
  {
   "cell_type": "code",
   "execution_count": null,
   "id": "e3362216-c1a5-4594-baf0-f0a9e917e392",
   "metadata": {},
   "outputs": [],
   "source": []
  }
 ],
 "metadata": {
  "kernelspec": {
   "display_name": "Python 3 (ipykernel)",
   "language": "python",
   "name": "python3"
  },
  "language_info": {
   "codemirror_mode": {
    "name": "ipython",
    "version": 3
   },
   "file_extension": ".py",
   "mimetype": "text/x-python",
   "name": "python",
   "nbconvert_exporter": "python",
   "pygments_lexer": "ipython3",
   "version": "3.11.7"
  }
 },
 "nbformat": 4,
 "nbformat_minor": 5
}
