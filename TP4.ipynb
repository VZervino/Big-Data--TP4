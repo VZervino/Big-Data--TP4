{
 "cells": [
  {
   "cell_type": "markdown",
   "id": "d3a75a39",
   "metadata": {},
   "source": [
    "# Trabajo Practico 4\n",
    "Participantes: Sophie Schulzen, Vicente Zervino y Sofia Ellenberg\n"
   ]
  },
  {
   "cell_type": "code",
   "execution_count": 1,
   "id": "0f0bb81f-c410-4a70-9db6-3d8b04fd8d6f",
   "metadata": {},
   "outputs": [],
   "source": [
    "import pandas as pd"
   ]
  },
  {
   "cell_type": "code",
   "execution_count": 2,
   "id": "141cecb1-2f57-44ab-9209-8d1932a8cc16",
   "metadata": {},
   "outputs": [],
   "source": [
    "#Parte 1"
   ]
  },
  {
   "cell_type": "code",
   "execution_count": 3,
   "id": "d81f0de8-3c57-4e8f-8e64-9b6fba60604c",
   "metadata": {},
   "outputs": [],
   "source": [
    "#2.\n",
    "# Abrimos la base de datos\n",
    "EPH_ind = 'usu_individual_T423.xlsx'\n",
    "EPH_ind = pd.read_excel(EPH_ind)\n",
    "EPH_hogar = 'usu_hogar_T423.xlsx'\n",
    "EPH_hogar = pd.read_excel(EPH_hogar)"
   ]
  },
  {
   "cell_type": "code",
   "execution_count": 4,
   "id": "8f9ef9fe-1ed6-46c6-a589-a67f5d80615e",
   "metadata": {},
   "outputs": [
    {
     "name": "stdout",
     "output_type": "stream",
     "text": [
      "                              CODUSU  ANO4  TRIMESTRE  NRO_HOGAR  COMPONENTE  \\\n",
      "0      TQRMNOSUWHLMKQCDEFNFF00852219  2023          4          1           1   \n",
      "1      TQRMNOSUWHLMKQCDEFNFF00852219  2023          4          1           2   \n",
      "2      TQRMNOTXQHKOLMCDEGNFJ00794590  2023          4          1           1   \n",
      "3      TQRMNOTXQHKOLMCDEGNFJ00794590  2023          4          1           2   \n",
      "4      TQRMNOTXQHKOLMCDEGNFJ00794590  2023          4          1           3   \n",
      "...                              ...   ...        ...        ...         ...   \n",
      "47332  TQRMNORXTHLOLSCDEGJBF00853031  2023          4          1           1   \n",
      "47333  TQRMNORXTHLOLSCDEGJBF00853031  2023          4          1           2   \n",
      "47334  TQRMNORXTHLOLSCDEGJBF00853031  2023          4          1           3   \n",
      "47335  TQRMNORXTHLOLSCDEGJBF00853031  2023          4          1           4   \n",
      "47336  TQRMNOQWQHKMLNCDEIMBF00792561  2023          4          1           1   \n",
      "\n",
      "       H15  REGION MAS_500  AGLOMERADO  PONDERA  ...  PDECIFR  ADECIFR  \\\n",
      "0        1      41       N           7      370  ...     12.0       12   \n",
      "1        1      41       N           7      370  ...     12.0       12   \n",
      "2        1      44       N          17      281  ...      9.0        7   \n",
      "3        1      44       N          17      281  ...      9.0        7   \n",
      "4        0      44       N          17      281  ...      9.0        7   \n",
      "...    ...     ...     ...         ...      ...  ...      ...      ...   \n",
      "47332    1      43       S          13      634  ...      NaN        4   \n",
      "47333    1      43       S          13      634  ...      NaN        4   \n",
      "47334    1      43       S          13      634  ...      NaN        4   \n",
      "47335    1      43       S          13      634  ...      NaN        4   \n",
      "47336    1      43       N          36      142  ...      4.0        4   \n",
      "\n",
      "            IPCF  DECCFR  IDECCFR  RDECCFR  GDECCFR  PDECCFR  ADECCFR  PONDIH  \n",
      "0           0.00      12     12.0       12      NaN     12.0       12       0  \n",
      "1           0.00      12     12.0       12      NaN     12.0       12       0  \n",
      "2      216666.67       8      8.0        7      NaN      8.0        6     387  \n",
      "3      216666.67       8      8.0        7      NaN      8.0        6     387  \n",
      "4      216666.67       8      8.0        7      NaN      8.0        6     387  \n",
      "...          ...     ...      ...      ...      ...      ...      ...     ...  \n",
      "47332   65000.00       2      2.0        2      2.0      NaN        2     777  \n",
      "47333   65000.00       2      2.0        2      2.0      NaN        2     777  \n",
      "47334   65000.00       2      2.0        2      2.0      NaN        2     777  \n",
      "47335   65000.00       2      2.0        2      2.0      NaN        2     777  \n",
      "47336  250000.00       8      9.0        8      NaN      9.0        8     156  \n",
      "\n",
      "[47337 rows x 177 columns]\n"
     ]
    }
   ],
   "source": [
    "print(EPH_ind)"
   ]
  },
  {
   "cell_type": "code",
   "execution_count": 5,
   "id": "18d99cc1-12dc-4cb6-b629-f3e75bf5a09d",
   "metadata": {},
   "outputs": [
    {
     "name": "stdout",
     "output_type": "stream",
     "text": [
      "                              CODUSU  ANO4  TRIMESTRE  NRO_HOGAR  REALIZADA  \\\n",
      "0      TQRMNORSQHKMKUCDEIGED00791045  2023          4          2          1   \n",
      "1      TQRMNOPVSHJMLNCDEIGED00801502  2023          4          1          1   \n",
      "2      TQRMNORTYHMLKPCDEHJGH00810920  2023          4          1          1   \n",
      "3      TQRMNOQTWHKLKQCDEHJGH00790284  2023          4          2          1   \n",
      "4      TQRMNORQVHLLKRCDEHJGH00853836  2023          4          1          1   \n",
      "...                              ...   ...        ...        ...        ...   \n",
      "16457  TQRMNOQQYHLOLMCDEFMDB00852214  2023          4          1          1   \n",
      "16458  TQRMNOUQYHLOLNCDEFMDB00852215  2023          4          1          1   \n",
      "16459  TQRMNOTRWHLOKNCDEGKDB00853136  2023          4          1          1   \n",
      "16460  TQRMNOSXQHJMKQCDEGKDB00794419  2023          4          1          1   \n",
      "16461  TQRMNOPUQHMLLPCDEOHCH00813298  2023          4          1          1   \n",
      "\n",
      "       REGION MAS_500  AGLOMERADO  PONDERA  IV1  ... GDECCFR  PDECCFR  \\\n",
      "0          43       N          30      107    1  ...     NaN      9.0   \n",
      "1          43       N          30      137    1  ...     NaN     12.0   \n",
      "2          40       S          23      356    2  ...     7.0      NaN   \n",
      "3          40       S          23      299    1  ...     1.0      NaN   \n",
      "4          40       S          23      221    1  ...     6.0      NaN   \n",
      "...       ...     ...         ...      ...  ...  ...     ...      ...   \n",
      "16457      43       N           6      170    2  ...     NaN     12.0   \n",
      "16458      43       N           6      249    1  ...     NaN     12.0   \n",
      "16459      43       N          14      110    6  ...     NaN      2.0   \n",
      "16460      43       N          14       92    1  ...     NaN     12.0   \n",
      "16461      44       N          91      176    2  ...     NaN      8.0   \n",
      "\n",
      "       ADECCFR PONDIH  VII1_1  VII1_2  VII2_1  VII2_2 VII2_3  VII2_4  \n",
      "0            7    128       1       0      98       0      0       0  \n",
      "1           12      0       1       0       2       0      0       0  \n",
      "2            8    329       2       0       1       0      0       0  \n",
      "3            1    320       1       0       2       0      0       0  \n",
      "4            8    193       1       0      96       0      0       0  \n",
      "...        ...    ...     ...     ...     ...     ...    ...     ...  \n",
      "16457       12      0       2       0      98       0      0       0  \n",
      "16458       12      0       1       0      98       0      0       0  \n",
      "16459        2    114       1       0      98       0      0       0  \n",
      "16460       12      0       1       7       8       3      0       0  \n",
      "16461        8    172       1       0      98       0      0       0  \n",
      "\n",
      "[16462 rows x 88 columns]\n"
     ]
    }
   ],
   "source": [
    "print(EPH_hogar)"
   ]
  },
  {
   "cell_type": "code",
   "execution_count": 6,
   "id": "e3362216-c1a5-4594-baf0-f0a9e917e392",
   "metadata": {},
   "outputs": [],
   "source": [
    "#Eliminamos todas las observaciones que no corresponden a los aglomerados de Ciudad Autonoma de Buenos Aires o Gran Buenos Aires.\n",
    "EPH_ind = EPH_ind[(EPH_ind['AGLOMERADO'] == 32) | (EPH_ind['AGLOMERADO'] == 33)]\n",
    "EPH_hogar = EPH_hogar[(EPH_hogar['AGLOMERADO'] == 32) | (EPH_hogar['AGLOMERADO'] == 33)]"
   ]
  },
  {
   "cell_type": "code",
   "execution_count": 7,
   "id": "0a485bbe-921d-498d-a131-16f488d1913c",
   "metadata": {},
   "outputs": [],
   "source": [
    "# Unimos las bases de datos\n",
    "EPH = pd.merge(EPH_ind, EPH_hogar, on=['CODUSU', 'NRO_HOGAR'])"
   ]
  },
  {
   "cell_type": "code",
   "execution_count": 8,
   "id": "773281c1-2409-4773-ace6-1fb22b7ce36a",
   "metadata": {},
   "outputs": [
    {
     "name": "stdout",
     "output_type": "stream",
     "text": [
      "                             CODUSU  ANO4_x  TRIMESTRE_x  NRO_HOGAR  \\\n",
      "0     TQRMNOTUUHJMLPCDEIIAD00801670    2023            4          1   \n",
      "1     TQRMNOTUUHJMLPCDEIIAD00801670    2023            4          1   \n",
      "2     TQRMNOPUUHJKLQCDEIIAD00793187    2023            4          1   \n",
      "3     TQRMNOPUUHJKLQCDEIIAD00793187    2023            4          1   \n",
      "4     TQRMNOPUTHKLMNCDEIIAD00791268    2023            4          1   \n",
      "...                             ...     ...          ...        ...   \n",
      "7375  TQRMNOSRQHLMNSCDEIJAH00855730    2023            4          1   \n",
      "7376  TQRMNOSRQHLMNSCDEIJAH00855730    2023            4          1   \n",
      "7377  TQRMNOVTYHLMNUCDEIJAH00855731    2023            4          1   \n",
      "7378  TQRMNOVTYHLMNUCDEIJAH00855731    2023            4          1   \n",
      "7379  TQRMNOVTYHLMNUCDEIJAH00855731    2023            4          1   \n",
      "\n",
      "      COMPONENTE  H15  REGION_x MAS_500_x  AGLOMERADO_x  PONDERA_x  ...  \\\n",
      "0              1    1         1         S            32       1775  ...   \n",
      "1              2    1         1         S            32       1775  ...   \n",
      "2              1    2         1         S            32        609  ...   \n",
      "3              2    1         1         S            32        609  ...   \n",
      "4              1    1         1         S            32       3129  ...   \n",
      "...          ...  ...       ...       ...           ...        ...  ...   \n",
      "7375           2    1         1         S            33       1230  ...   \n",
      "7376           3    0         1         S            33       1230  ...   \n",
      "7377           1    1         1         S            33       1316  ...   \n",
      "7378           2    1         1         S            33       1316  ...   \n",
      "7379           3    1         1         S            33       1316  ...   \n",
      "\n",
      "      GDECCFR_y  PDECCFR_y ADECCFR_y  PONDIH_y  VII1_1  VII1_2  VII2_1  \\\n",
      "0           8.0        NaN         5      3079       2       0      98   \n",
      "1           8.0        NaN         5      3079       2       0      98   \n",
      "2          12.0        NaN        12         0       2       0      98   \n",
      "3          12.0        NaN        12         0       2       0      98   \n",
      "4           8.0        NaN         6      4648       1       0      98   \n",
      "...         ...        ...       ...       ...     ...     ...     ...   \n",
      "7375        8.0        NaN         9      2145       1       2      98   \n",
      "7376        8.0        NaN         9      2145       1       2      98   \n",
      "7377        3.0        NaN         3      2192       1       0      98   \n",
      "7378        3.0        NaN         3      2192       1       0      98   \n",
      "7379        3.0        NaN         3      2192       1       0      98   \n",
      "\n",
      "      VII2_2  VII2_3  VII2_4  \n",
      "0          0       0       0  \n",
      "1          0       0       0  \n",
      "2          0       0       0  \n",
      "3          0       0       0  \n",
      "4          0       0       0  \n",
      "...      ...     ...     ...  \n",
      "7375       0       0       0  \n",
      "7376       0       0       0  \n",
      "7377       0       0       0  \n",
      "7378       0       0       0  \n",
      "7379       0       0       0  \n",
      "\n",
      "[7380 rows x 263 columns]\n"
     ]
    }
   ],
   "source": [
    "print(EPH)"
   ]
  },
  {
   "cell_type": "code",
   "execution_count": 9,
   "id": "96507625-8c0f-4268-a8c4-a13b46210c63",
   "metadata": {},
   "outputs": [],
   "source": [
    "EPH.drop_duplicates(inplace=True)"
   ]
  },
  {
   "cell_type": "code",
   "execution_count": 10,
   "id": "13d971f0-bb7f-43be-bad5-2da1f71d84df",
   "metadata": {},
   "outputs": [
    {
     "name": "stdout",
     "output_type": "stream",
     "text": [
      "CH14: 3821\n",
      "CH15_COD: 6049\n",
      "CH16_COD: 7265\n",
      "IMPUTA: 7314\n",
      "PP03C: 3890\n",
      "PP03D: 3890\n",
      "PP3E_TOT: 3890\n",
      "PP3F_TOT: 3890\n",
      "PP03G: 3890\n",
      "PP03H: 3890\n",
      "PP03I: 3890\n",
      "PP03J: 3890\n",
      "INTENSI: 3890\n",
      "PP04A: 3890\n",
      "PP04B_COD: 3890\n",
      "PP04B1: 3890\n",
      "PP04B2: 3890\n",
      "PP04B3_MES: 3890\n",
      "PP04B3_ANO: 3890\n",
      "PP04B3_DIA: 3890\n",
      "PP04C: 3890\n",
      "PP04C99: 3890\n",
      "PP04D_COD: 3890\n",
      "PP04G: 3890\n",
      "PP05B2_MES: 3890\n",
      "PP05B2_ANO: 3890\n",
      "PP05B2_DIA: 3890\n",
      "PP05C_1: 3890\n",
      "PP05C_2: 3890\n",
      "PP05C_3: 3890\n",
      "PP05E: 3890\n",
      "PP05F: 3890\n",
      "PP05H: 3890\n",
      "PP06A: 3890\n",
      "PP06C: 3890\n",
      "PP06D: 3890\n",
      "PP06E: 3890\n",
      "PP06H: 3890\n",
      "PP07A: 3890\n",
      "PP07C: 3890\n",
      "PP07D: 3890\n",
      "PP07E: 3890\n",
      "PP07F1: 3890\n",
      "PP07F2: 3890\n",
      "PP07F3: 3890\n",
      "PP07F4: 3890\n",
      "PP07F5: 3890\n",
      "PP07G1: 3890\n",
      "PP07G2: 3890\n",
      "PP07G3: 3890\n",
      "PP07G4: 3890\n",
      "PP07G_59: 3890\n",
      "PP07H: 3890\n",
      "PP07I: 3890\n",
      "PP07J: 3890\n",
      "PP07K: 3890\n",
      "PP08D1: 3890\n",
      "PP08D4: 3890\n",
      "PP08F1: 3890\n",
      "PP08F2: 3890\n",
      "PP08J1: 3890\n",
      "PP08J2: 3890\n",
      "PP08J3: 3890\n",
      "PP09A: 3890\n",
      "PP09A_ESP: 7364\n",
      "PP09B: 3890\n",
      "PP09C: 3890\n",
      "PP09C_ESP: 7380\n",
      "PP10A: 7140\n",
      "PP10C: 7140\n",
      "PP10D: 7140\n",
      "PP10E: 7140\n",
      "PP11A: 7140\n",
      "PP11B_COD: 7140\n",
      "PP11B1: 7140\n",
      "PP11B2_MES: 7140\n",
      "PP11B2_ANO: 7140\n",
      "PP11B2_DIA: 7140\n",
      "PP11C: 7140\n",
      "PP11C99: 7140\n",
      "PP11D_COD: 7211\n",
      "PP11G_ANO: 7140\n",
      "PP11G_MES: 7140\n",
      "PP11G_DIA: 7140\n",
      "PP11L: 7140\n",
      "PP11L1: 7140\n",
      "PP11M: 7140\n",
      "PP11N: 7140\n",
      "PP11O: 7140\n",
      "PP11P: 7140\n",
      "PP11Q: 7140\n",
      "PP11R: 7140\n",
      "PP11S: 7140\n",
      "PP11T: 7140\n",
      "IDECOCUR: 7380\n",
      "PDECOCUR: 7380\n",
      "P47T: 37\n",
      "IDECINDR: 7380\n",
      "PDECINDR: 7380\n",
      "IDECIFR_x: 7380\n",
      "PDECIFR_x: 7380\n",
      "IDECCFR_x: 7380\n",
      "PDECCFR_x: 7380\n",
      "IV1_ESP: 7359\n",
      "IV3_ESP: 7373\n",
      "IV7_ESP: 7349\n",
      "II7_ESP: 7364\n",
      "II8_ESP: 7172\n",
      "IDECIFR_y: 7380\n",
      "PDECIFR_y: 7380\n",
      "IDECCFR_y: 7380\n",
      "PDECCFR_y: 7380\n"
     ]
    }
   ],
   "source": [
    "# 3.\n",
    "# Limpieza de base de datos\n",
    "# Obtenemos el resumen de los missings\n",
    "missing_values = EPH.isna().sum()\n",
    "columnas_con_missings = missing_values[missing_values > 0]\n",
    "\n",
    "# Imprimimos los nombres de las variables que tienen missings con las respectivas cantidades\n",
    "for column, count in columnas_con_missings.items():\n",
    "    print(f\"{column}: {count}\")"
   ]
  },
  {
   "cell_type": "code",
   "execution_count": 11,
   "id": "84bd02d9-4866-4f3f-98ab-3806f51df065",
   "metadata": {},
   "outputs": [],
   "source": [
    "# reemplazamos missings por NS/NR\n",
    "EPH['CH14'] = EPH['CH14'].fillna(99)"
   ]
  },
  {
   "cell_type": "code",
   "execution_count": 12,
   "id": "b1f8f712-718c-4653-8ab3-661ef51ec510",
   "metadata": {},
   "outputs": [],
   "source": [
    "# Variables que se eliminan:\n",
    "# CH15_COD, CH16_COD, PP09A_ESP, PP09C_ESP, PP11D_COD son variables categóricas que son para especificar una respuesta anterior\n",
    "# INPUTA es 95% missings\n",
    "# Todas las que tienen 3890 missings son respuestas solo para ocupados y no se podría crear un contrafactual para desocupados\n",
    "# Análogamente, todas las que tienen 7140 missings son respuestas solo para desocupados\n",
    "# Las que tienen 7380 missings son deciles de los distintos ingresos dentro de las regiones, no del agregado\n",
    "EPH = EPH.drop(columns=['CH15_COD', 'CH16_COD', 'IMPUTA', 'PP03C', 'PP03D', 'PP3E_TOT', 'PP3F_TOT', 'PP03G', 'PP03H', 'PP03I', 'PP03J', 'INTENSI',\n",
    "    'PP04A', 'PP04B_COD', 'PP04B1', 'PP04B2', 'PP04B3_MES', 'PP04B3_ANO', 'PP04B3_DIA', 'PP04C',\n",
    "    'PP04C99', 'PP04D_COD', 'PP04G', 'PP05B2_MES', 'PP05B2_ANO', 'PP05B2_DIA', 'PP05C_1', 'PP05C_2',\n",
    "    'PP05C_3', 'PP05E', 'PP05F', 'PP05H', 'PP06A', 'PP06C', 'PP06D', 'PP06E', 'PP06H', 'PP07A',\n",
    "    'PP07C', 'PP07D', 'PP07E', 'PP07F1', 'PP07F2', 'PP07F3', 'PP07F4', 'PP07F5', 'PP07G1', 'PP07G2',\n",
    "    'PP07G3', 'PP07G4', 'PP07G_59', 'PP07H', 'PP07I', 'PP07J', 'PP07K', 'PP08D1', 'PP08D4', 'PP08F1',\n",
    "    'PP08F2', 'PP08J1', 'PP08J2', 'PP08J3', 'PP09A', 'PP09B', 'PP09C', 'PP10A', 'PP10C', 'PP10D', 'PP10E',\n",
    "    'PP11A', 'PP11B_COD', 'PP11B1', 'PP11B2_MES', 'PP11B2_ANO', 'PP11B2_DIA', 'PP11C', 'PP11C99',\n",
    "    'PP11G_ANO', 'PP11G_MES', 'PP11G_DIA', 'PP11L', 'PP11L1', 'PP11M', 'PP11N', 'PP11O', 'PP11P',\n",
    "    'PP11Q', 'PP11R', 'PP11S', 'PP11T', 'PP09A_ESP', 'PP09C_ESP', 'PP11D_COD', 'IDECOCUR', 'PDECOCUR', 'IDECINDR', 'PDECINDR', 'IDECIFR_x', 'PDECIFR_x',\n",
    "    'IDECCFR_x', 'PDECCFR_x', 'IDECIFR_y', 'PDECIFR_y', 'IDECCFR_y', 'PDECCFR_y', 'IV1_ESP', 'IV3_ESP', 'IV7_ESP', 'II7_ESP', 'II8_ESP'])"
   ]
  },
  {
   "cell_type": "code",
   "execution_count": 13,
   "id": "18b77efc-6d86-4149-8bda-d160038adc00",
   "metadata": {},
   "outputs": [],
   "source": [
    "from sklearn.experimental import enable_iterative_imputer\n",
    "from sklearn.impute import IterativeImputer"
   ]
  },
  {
   "cell_type": "code",
   "execution_count": 14,
   "id": "3342ac9c-9149-458e-8bd6-973b935a0b43",
   "metadata": {},
   "outputs": [],
   "source": [
    "# P47T es el ingreso individual. Tiene 37 missings. Los predecimos con Multiple Imputation by Chained Equations\n",
    "# Creamos un dataframe con la columna 'P47T'\n",
    "EPH_column = EPH[['P47T']]\n",
    "\n",
    "# Configuramos el MICE\n",
    "imputer = IterativeImputer(random_state=0)\n",
    "\n",
    "# Imputamos los missings en 'P47T'\n",
    "EPH['P47T'] = imputer.fit_transform(EPH_column)"
   ]
  },
  {
   "cell_type": "code",
   "execution_count": 15,
   "id": "6554973d-dbc8-4886-b8ef-6919a88f65bc",
   "metadata": {},
   "outputs": [],
   "source": [
    "# 4.\n",
    "# Proporción de niños en el hogar:\n",
    "EPH['proporcion_niños'] = EPH['IX_MEN10'] / EPH['IX_TOT']"
   ]
  },
  {
   "cell_type": "code",
   "execution_count": 16,
   "id": "048aa217-2b7f-424f-9ca0-64b2a23b76b0",
   "metadata": {},
   "outputs": [],
   "source": [
    "# Proporción de personas que trabajan\n",
    "# Total de personas por hogar\n",
    "EPH['total_personas'] = EPH.groupby(['CODUSU', 'NRO_HOGAR'])['COMPONENTE'].transform('count')\n",
    "\n",
    "# Dummy trabajando o no\n",
    "EPH['esta_trabajando'] = (EPH['ESTADO'] == 1).astype(int)\n",
    "\n",
    "# Total de personas que trabajan por hogar\n",
    "EPH['trabajando'] = EPH.groupby(['CODUSU', 'NRO_HOGAR'])['esta_trabajando'].transform('sum')\n",
    "\n",
    "# Proporción de personas que trabajan por hogar\n",
    "EPH['proporcion_trabajando'] = EPH['trabajando'] / EPH['total_personas']"
   ]
  },
  {
   "cell_type": "code",
   "execution_count": 17,
   "id": "7f0e38e7-e5f1-45dd-b7c0-946a9d8a9584",
   "metadata": {},
   "outputs": [],
   "source": [
    "# Proporción de personas por cada ambiente del hogar\n",
    "EPH['personas_por_ambiente'] = EPH['total_personas'] / EPH['IV2']"
   ]
  },
  {
   "cell_type": "code",
   "execution_count": 18,
   "id": "9e4e429e-a28d-44f3-8fa4-1c49fbc458ba",
   "metadata": {},
   "outputs": [],
   "source": [
    "# Dropear las variables intermedias\n",
    "EPH = EPH.drop(columns=['total_personas', 'trabajando'])"
   ]
  },
  {
   "cell_type": "code",
   "execution_count": 19,
   "id": "3b513627-d82e-4e71-a84d-959111fcbd33",
   "metadata": {},
   "outputs": [
    {
     "name": "stdout",
     "output_type": "stream",
     "text": [
      "            IX_TOT         ITF_x           V4          IV1     NIVEL_ED\n",
      "count  7380.000000  7.380000e+03  7380.000000  7380.000000  7380.000000\n",
      "mean      3.671816  2.987517e+05     2.002168     1.322358     3.832249\n",
      "std       1.866573  4.844857e+05     0.257155     0.549502     1.760813\n",
      "min       1.000000  0.000000e+00     1.000000     1.000000     1.000000\n",
      "25%       2.000000  0.000000e+00     2.000000     1.000000     3.000000\n",
      "50%       3.000000  1.920000e+05     2.000000     1.000000     4.000000\n",
      "75%       4.000000  4.416450e+05     2.000000     2.000000     5.000000\n",
      "max      12.000000  8.625000e+06     9.000000     6.000000     7.000000\n"
     ]
    }
   ],
   "source": [
    "#5.\n",
    "#5.\n",
    "variables_relevantes = ['IX_TOT', 'ITF_x', 'V4', 'IV1', 'NIVEL_ED']\n",
    "\n",
    "# Obtener estadísticas descriptivas\n",
    "estadisticas_descriptivas = EPH[variables_relevantes].describe()\n",
    "print(estadisticas_descriptivas)\n"
   ]
  },
  {
   "cell_type": "code",
   "execution_count": 20,
   "id": "b48c40d1-c8d3-4ddb-b8eb-7bcb51d47e99",
   "metadata": {},
   "outputs": [],
   "source": [
    "import matplotlib.pyplot as plt"
   ]
  },
  {
   "cell_type": "code",
   "execution_count": 21,
   "id": "3e4c092e",
   "metadata": {},
   "outputs": [
    {
     "data": {
      "image/png": "[encoded data removed]",
      "text/plain": [
       "<Figure size 800x600 with 1 Axes>"
      ]
     },
     "metadata": {},
     "output_type": "display_data"
    }
   ],
   "source": [
    "#6.\n",
    "#6.\n",
    "#Creamos un grafico de dispersion:\n",
    "\n",
    "plt.figure(figsize=(8, 6))\n",
    "plt.scatter(EPH['IX_TOT'], EPH['ITF_x'], alpha=0.5)\n",
    "plt.title('Relación entre La cantidad de miembros del hogar y el monto de ingreso por hogar')\n",
    "plt.xlabel('IX_TOT')\n",
    "plt.ylabel('ITF_x')\n",
    "plt.grid(True)\n",
    "plt.show()\n"
   ]
  },
  {
   "cell_type": "code",
   "execution_count": 22,
   "id": "41e5a51f",
   "metadata": {},
   "outputs": [
    {
     "name": "stdout",
     "output_type": "stream",
     "text": [
      "   Tabla de equivalencias de necesidades energéticas. Unidades de adulto equivalente, según sexo y edad  \\\n",
      "0                                                 NaN                                                     \n",
      "1                                                 NaN                                                     \n",
      "2                                                Edad                                                     \n",
      "3                                                 NaN                                                     \n",
      "4                                      Menor de 1 año                                                     \n",
      "5                                                1año                                                     \n",
      "6                                              2 años                                                     \n",
      "7                                              3 años                                                     \n",
      "8                                              4 años                                                     \n",
      "9                                              5 años                                                     \n",
      "10                                             6 años                                                     \n",
      "11                                             7 años                                                     \n",
      "12                                             8 años                                                     \n",
      "13                                             9 años                                                     \n",
      "14                                            10 años                                                     \n",
      "15                                            11 años                                                     \n",
      "16                                            12 años                                                     \n",
      "17                                            13 años                                                     \n",
      "18                                            14 años                                                     \n",
      "19                                            15 años                                                     \n",
      "20                                            16 años                                                     \n",
      "21                                            17 años                                                     \n",
      "22                                       18 a 29 años                                                     \n",
      "23                                       30 a 45 años                                                     \n",
      "24                                       46 a 60 años                                                     \n",
      "25                                       61 a 75 años                                                     \n",
      "26                                     más de 75 años                                                     \n",
      "27                                                NaN                                                     \n",
      "28  Ejemplos de determinación de las unidades cons...                                                     \n",
      "29  Se presentan a continuación tres ejemplos de c...                                                     \n",
      "30                                                NaN                                                     \n",
      "31  Hogar 1: de tres integrantes, compuesto por un...                                                     \n",
      "32                                                NaN                                                     \n",
      "33  Hogar 2: de cuatro integrantes, compuesto por ...                                                     \n",
      "34                                                NaN                                                     \n",
      "35  Hogar 3: de cinco integrantes, constituido por...                                                     \n",
      "36                                                NaN                                                     \n",
      "37                                                NaN                                                     \n",
      "38                                     Fuente: INDEC.                                                     \n",
      "\n",
      "   Unnamed: 1 Unnamed: 2  \n",
      "0         NaN        NaN  \n",
      "1         NaN        NaN  \n",
      "2     Mujeres    Varones  \n",
      "3         NaN        NaN  \n",
      "4        0.35       0.35  \n",
      "5        0.37       0.37  \n",
      "6        0.46       0.46  \n",
      "7        0.51       0.51  \n",
      "8        0.55       0.55  \n",
      "9         0.6        0.6  \n",
      "10       0.64       0.64  \n",
      "11       0.66       0.66  \n",
      "12       0.68       0.68  \n",
      "13       0.69       0.69  \n",
      "14        0.7       0.79  \n",
      "15       0.72       0.82  \n",
      "16       0.74       0.85  \n",
      "17       0.76        0.9  \n",
      "18       0.76       0.96  \n",
      "19       0.77          1  \n",
      "20       0.77       1.03  \n",
      "21       0.77       1.04  \n",
      "22       0.76       1.02  \n",
      "23       0.77          1  \n",
      "24       0.76          1  \n",
      "25       0.67       0.83  \n",
      "26       0.63       0.74  \n",
      "27        NaN        NaN  \n",
      "28        NaN        NaN  \n",
      "29        NaN        NaN  \n",
      "30        NaN        NaN  \n",
      "31        NaN        NaN  \n",
      "32        NaN        NaN  \n",
      "33        NaN        NaN  \n",
      "34        NaN        NaN  \n",
      "35        NaN        NaN  \n",
      "36        NaN        NaN  \n",
      "37        NaN        NaN  \n",
      "38        NaN        NaN  \n"
     ]
    }
   ],
   "source": [
    "#7.\n",
    "#Agregamos el archivo tabla adulto equiv.xlsx \n",
    "tabla_equiv = 'tabla_adulto_equiv.xlsx'\n",
    "tabla = pd.read_excel(tabla_equiv)\n",
    "print(tabla)"
   ]
  },
  {
   "cell_type": "code",
   "execution_count": 23,
   "id": "312c142f",
   "metadata": {},
   "outputs": [
    {
     "name": "stdout",
     "output_type": "stream",
     "text": [
      "    lowerbound_edad  upperbound_edad  Mujeres  Varones\n",
      "0                 0                0     0.35     0.35\n",
      "1                 1                1     0.37     0.37\n",
      "2                 2                2     0.46     0.46\n",
      "3                 3                3     0.51     0.51\n",
      "4                 4                4     0.55     0.55\n",
      "5                 5                5     0.60     0.60\n",
      "6                 6                6     0.64     0.64\n",
      "7                 7                7     0.66     0.66\n",
      "8                 8                8     0.68     0.68\n",
      "9                 9                9     0.69     0.69\n",
      "10               10               10     0.70     0.79\n",
      "11               11               11     0.72     0.82\n",
      "12               12               12     0.74     0.85\n",
      "13               13               13     0.76     0.90\n",
      "14               14               14     0.76     0.96\n",
      "15               15               15     0.77     1.00\n",
      "16               16               16     0.77     1.03\n",
      "17               17               17     0.77     1.04\n",
      "18               18               29     0.76     1.02\n",
      "19               30               45     0.77     1.00\n",
      "20               46               60     0.76     1.00\n",
      "21               61               75     0.67     0.83\n",
      "22               76              100     0.63     0.74\n",
      "   CH06  CH04  adulto_equiv  ad_equiv_hogar\n",
      "0    76     1          0.74            1.37\n",
      "1    79     2          0.63            1.37\n",
      "2    65     1          0.83            6.64\n",
      "3    66     2          0.67            6.64\n",
      "4    49     2          0.76            2.82\n"
     ]
    }
   ],
   "source": [
    "#Comenzamos pasando los datos. \n",
    "#Queremos agregar un columna a nuestra abse de datos llamada adulto_equiv. Para eso hacemos un diccionario por edad y por sexo. \n",
    "\n",
    "# Definimos el diccionario adulto_equiv copiando la tabla\n",
    "adulto_equiv = {\n",
    "    'lowerbound_edad': [0, 1, 2, 3, 4, 5, 6, 7, 8, 9, 10, 11, 12, 13, 14, 15, 16, 17, 18, 30, 46, 61, 76],\n",
    "    'upperbound_edad': [0, 1, 2, 3, 4, 5, 6, 7, 8, 9, 10, 11, 12, 13, 14, 15, 16, 17, 29, 45, 60, 75, 100],\n",
    "    'Mujeres': [0.35, 0.37, 0.46, 0.51, 0.55, 0.60, 0.64, 0.66, 0.68, 0.69, 0.70, 0.72, 0.74, 0.76, 0.76, 0.77, 0.77, 0.77, 0.76, 0.77, 0.76, 0.67, 0.63],\n",
    "    'Varones': [0.35, 0.37, 0.46, 0.51, 0.55, 0.60, 0.64, 0.66, 0.68, 0.69, 0.79, 0.82, 0.85, 0.9, 0.96, 1.00, 1.03, 1.04, 1.02, 1.00, 1.00, 0.83, 0.74]\n",
    "}\n",
    "\n",
    "# Creamos la base de datos tabla_equiv_creada a partir del diccionario adulto_equiv\n",
    "tabla_equiv_creada = pd.DataFrame(adulto_equiv)\n",
    "print(tabla_equiv_creada)\n",
    "# De la base de datos \"EPH\", sabemos que CH06 es la variable para edad y CH04 es la variable para sexo. \n",
    "# Tenemos la función para buscar el equivalente entre estas variables. \n",
    "def get_adulto_equiv(edad, sexo):\n",
    "    row = tabla_equiv_creada[(tabla_equiv_creada['lowerbound_edad'] <= edad) & (tabla_equiv_creada['upperbound_edad'] >= edad)]\n",
    "    if not row.empty:\n",
    "        if sexo == 1:  \n",
    "            return row['Varones'].values[0]\n",
    "        else: \n",
    "            return row['Mujeres'].values[0]\n",
    "    else:\n",
    "        return None  # Esto es por si no se encuentra ninguna coincidencia\n",
    "\n",
    "# Ahora pasamos a crear la columna que se nos pide: 'adulto_equiv'. Primero hacemos la copia del DataFrame \"EPH\" y luego sumamos la columna \n",
    "EPH_copia = EPH.copy()  \n",
    "EPH_copia['adulto_equiv'] = EPH_copia.apply(lambda row: get_adulto_equiv(row['CH06'], row['CH04']), axis=1)\n",
    "EPH_copia['ad_equiv_hogar'] = EPH_copia.groupby('CODUSU')['adulto_equiv'].transform('sum')\n",
    "\n",
    "print(EPH_copia[['CH06', 'CH04', 'adulto_equiv', 'ad_equiv_hogar']].head())\n"
   ]
  },
  {
   "cell_type": "code",
   "execution_count": 24,
   "id": "18a39755",
   "metadata": {},
   "outputs": [
    {
     "name": "stdout",
     "output_type": "stream",
     "text": [
      " 2979 hogares no respondieron su ingreso total familiar\n",
      "Guardamos los datos en 'respondieron.xlsx' y 'norespondieron.xlsx'.\n",
      "Primeras filas del DataFrame 'respondieron':\n",
      "                          CODUSU  ANO4_x  TRIMESTRE_x  NRO_HOGAR  COMPONENTE  \\\n",
      "0  TQRMNOTUUHJMLPCDEIIAD00801670    2023            4          1           1   \n",
      "1  TQRMNOTUUHJMLPCDEIIAD00801670    2023            4          1           2   \n",
      "2  TQRMNOPUTHKLMNCDEIIAD00791268    2023            4          1           1   \n",
      "3  TQRMNOPUTHKLMNCDEIIAD00791268    2023            4          1           2   \n",
      "4  TQRMNOPUTHKLMNCDEIIAD00791268    2023            4          1           3   \n",
      "\n",
      "   H15  REGION_x MAS_500_x  AGLOMERADO_x  PONDERA_x  ...  VII2_1  VII2_2  \\\n",
      "0    1         1         S            32       1775  ...      98       0   \n",
      "1    1         1         S            32       1775  ...      98       0   \n",
      "2    1         1         S            32       3129  ...      98       0   \n",
      "3    1         1         S            32       3129  ...      98       0   \n",
      "4    1         1         S            32       3129  ...      98       0   \n",
      "\n",
      "  VII2_3  VII2_4  proporcion_niños  esta_trabajando  proporcion_trabajando  \\\n",
      "0      0       0               0.0                1               0.500000   \n",
      "1      0       0               0.0                0               0.500000   \n",
      "2      0       0               0.0                1               0.666667   \n",
      "3      0       0               0.0                1               0.666667   \n",
      "4      0       0               0.0                0               0.666667   \n",
      "\n",
      "   personas_por_ambiente  adulto_equiv  ad_equiv_hogar  \n",
      "0                   0.50          0.74            1.37  \n",
      "1                   0.50          0.63            1.37  \n",
      "2                   0.75          0.76            2.82  \n",
      "3                   0.75          1.02            2.82  \n",
      "4                   0.75          1.04            2.82  \n",
      "\n",
      "[5 rows x 159 columns]\n",
      "Datos actualizados guardados en 'respondieron.xlsx'\n",
      "   ad_equiv_hogar  ingreso_necesario  pobre\n",
      "0            1.37         182009.021      0\n",
      "1            1.37         182009.021      0\n",
      "2            2.82         374646.306      0\n",
      "3            2.82         374646.306      0\n",
      "4            2.82         374646.306      0\n"
     ]
    }
   ],
   "source": [
    "#8\n",
    "#Repetimos incisos del trabajo practico anterior:\n",
    "# Filtramos las observaciones donde ITF es NaN o 0\n",
    "respondieron = EPH_copia[EPH_copia['ITF_x'].notna() & (EPH_copia['ITF_x'] > 0)].copy()\n",
    "norespondieron = EPH_copia[EPH_copia['ITF_x'].isna() | (EPH_copia['ITF_x'] == 0)].copy()\n",
    "\n",
    "# Verificamos cuántas personas no respondieron su ingreso total familiar\n",
    "cuantos_no_respondieron = len(norespondieron)\n",
    "print(f\" {cuantos_no_respondieron} hogares no respondieron su ingreso total familiar\")\n",
    "\n",
    "# Guardar las observaciones en archivos separados\n",
    "base_respondieron = 'respondieron.xlsx'\n",
    "respondieron.to_excel(base_respondieron, index=False)\n",
    "\n",
    "base_norespondieron = 'norespondieron.xlsx'\n",
    "norespondieron.to_excel(base_norespondieron, index=False)\n",
    "\n",
    "print(f\"Guardamos los datos en '{base_respondieron}' y '{base_norespondieron}'.\")\n",
    "\n",
    "# Cargar la base 'respondieron'\n",
    "respondieron = pd.read_excel(base_respondieron)\n",
    "\n",
    "# Verificar el contenido del DataFrame\n",
    "print(\"Primeras filas del DataFrame 'respondieron':\")\n",
    "print(respondieron.head())\n",
    "\n",
    "# Sabiendo que la Canasta Básica Total para un adulto equivalente en el cuarto trimestre de 2024 es aproximadamente $132.853, creamos\n",
    "cesta_basica_total = 132853.3\n",
    "\n",
    "# Agregamos a la base respondieron una columna llamada ingreso necesario que sea el producto de este valor por ad_equiv_hogar \n",
    "respondieron['ingreso_necesario'] = respondieron['ad_equiv_hogar'] * cesta_basica_total\n",
    "\n",
    "# Agregamos una columna llamada 'pobre' que tome valor 1 si el ITF es menor al ingreso necesario que necesita esa familia y 0 en caso contrario\n",
    "respondieron['pobre'] = respondieron.apply(lambda row: 1 if row['ITF_x'] < row['ingreso_necesario'] else 0, axis=1)\n",
    "\n",
    "# Guardamos la base de datos actualizada\n",
    "respondieron.to_excel(base_respondieron, index=False)\n",
    "print(\"Datos actualizados guardados en 'respondieron.xlsx'\")\n",
    "print(respondieron[['ad_equiv_hogar', 'ingreso_necesario', 'pobre']].head())\n"
   ]
  },
  {
   "cell_type": "code",
   "execution_count": 25,
   "id": "f9e30378",
   "metadata": {},
   "outputs": [
    {
     "name": "stdout",
     "output_type": "stream",
     "text": [
      "Tasa de hogares bajo la línea de pobreza: 33.33%\n"
     ]
    }
   ],
   "source": [
    "# 9\n",
    "#Seleccionamos una sola observación por hogar en la base de hogares respondieron\n",
    "respondieron_hogares = respondieron.drop_duplicates(subset=['CODUSU', 'NRO_HOGAR'])\n",
    "\n",
    "# Luego, sumamos el ponderador PONDIH para obtener la tasa de hogares bajo la línea de pobreza\n",
    "total_hogares = respondieron_hogares['PONDIH_x'].sum()\n",
    "hogares_pobres = respondieron_hogares[respondieron_hogares['pobre'] == 1]['PONDIH_x'].sum()\n",
    "tasa_pobreza_hogares = hogares_pobres / total_hogares\n",
    "\n",
    "print(f\"Tasa de hogares bajo la línea de pobreza: {tasa_pobreza_hogares:.2%}\")\n"
   ]
  },
  {
   "cell_type": "code",
   "execution_count": 26,
   "id": "8374eff9-26d7-4d1d-b89f-28481cfa1f5d",
   "metadata": {},
   "outputs": [],
   "source": [
    "# Parte 2"
   ]
  },
  {
   "cell_type": "code",
   "execution_count": 27,
   "id": "7fc2b6a0-c97f-4fa0-a54b-746bf543df9d",
   "metadata": {},
   "outputs": [],
   "source": [
    "import numpy as np\n",
    "import seaborn as sns\n",
    "from sklearn.metrics import confusion_matrix, roc_curve, auc, accuracy_score"
   ]
  },
  {
   "cell_type": "code",
   "execution_count": 28,
   "id": "0c877fa7",
   "metadata": {},
   "outputs": [],
   "source": [
    "#Ejercicio 1 : \n",
    "#Escribimos la funcion evalua_metodo con un modelo como argumento y los datos de entrenamiento y testeo. Luego, ajustamos el modelo con los datos.\n",
    "#Por ultimo, calculamos la matriz de confusion, las curvas ROC, los valores de AUC y accuracy score. \n",
    "\n",
    "\n",
    "def evalua_metodo(model, X_train, y_train, X_test, y_test):\n",
    "    model.fit(X_train, y_train)\n",
    "    y_pred = model.predict(X_test)\n",
    "    y_prob = model.predict_proba(X_test)[:, 1]\n",
    "\n",
    "    MAT_CONF = confusion_matrix(y_test, y_pred) #Matriz de confusion\n",
    "    ACCURACY = accuracy_score(y_test, y_pred) # Accuracy score\n",
    "    fpr, tpr, _ = roc_curve(y_test, y_prob)  # Curva roc\n",
    "    AUC_ROC = auc(fpr, tpr) # AUC\n",
    "\n",
    "#Matriz de confgusion \n",
    "    plt.figure(figsize=(10, 5))\n",
    "    plt.subplot(1, 2, 1)\n",
    "    sns.heatmap(cm, annot=True, fmt=\"d\", cmap='Blues')\n",
    "    plt.title('Matriz de Confusión')\n",
    "    plt.xlabel('Predicción')\n",
    "    plt.ylabel('Real')\n",
    "    \n",
    "#Curva ROC\n",
    "    plt.subplot(1, 2, 2)\n",
    "    plt.plot(fpr, tpr, lw=2, color= 'blue', label=f'Curva ROC (AUC = {AUC_ROC:.2f})')\n",
    "    plt.plot([0, 1], [0, 1], color='navy', lw=2, linestyle='--')\n",
    "    plt.xlim([0.0, 1.0])\n",
    "    plt.ylim([0.0, 1.05])\n",
    "    plt.xlabel('Falsos Positivos')\n",
    "    plt.ylabel('Verdaderos Positivos')\n",
    "    plt.title('Curva ROC')\n",
    "    plt.legend(loc=\"lower right\")\n",
    "    plt.show()\n",
    "\n",
    "#Creamos un dccionario que devuelva las metricas.\n",
    "    METRICAS = {\n",
    "        'confusion_matrix': MAT_CONF,\n",
    "        'accuracy': ACCURACY,\n",
    "        'roc_auc': AUC_ROC,\n",
    "        'roc_curve': (fpr, tpr)\n",
    "    }\n",
    "    \n",
    "    return metrics\n"
   ]
  },
  {
   "cell_type": "code",
   "execution_count": 29,
   "id": "cd077806-8c33-417e-af41-add94253a95e",
   "metadata": {},
   "outputs": [],
   "source": [
    "from sklearn.tree import DecisionTreeClassifier, plot_tree\n",
    "from sklearn.model_selection import KFold\n",
    "from sklearn.model_selection import cross_val_score"
   ]
  },
  {
   "cell_type": "code",
   "execution_count": 30,
   "id": "7f79581a-adc9-41ab-8c24-0eb9975d1c67",
   "metadata": {},
   "outputs": [],
   "source": [
    " #Ejercicio 2: \n",
    "\n",
    "#Ahora escribimos la funcion cross_validation que haga cross validation con k iteraciones. En cad auna llamara a la funcion del inciso anterior pero para las k partiicones. \n",
    "#Como argumento recibira, el modelo, el valor de k y x e y como dataset. #Hacemos las particiones usando la funcion Kfold.\n",
    "\n",
    "def cross_validation(model, k, X, y):\n",
    "    KFOLD = KFold(n_splits=k, shuffle=True, random_state=42)\n",
    "    ACCURACY_SCORES = []\n",
    "    AUC_SCORES = []\n",
    "\n",
    "    for train_index, test_index in KFOLD.split(X):\n",
    "        X_train, X_test = X.iloc[train_index], X.iloc[test_index]\n",
    "        y_train, y_test = y.iloc[train_index], y.iloc[test_index]\n",
    "        \n",
    "        METRICAS = evalua_metodo(model, X_train, y_train, X_test, y_test)\n",
    "        ACCURACY_SCORES.append(metrics['accuracy'])\n",
    "        AUC_SCORES.append(metrics['roc_auc'])\n",
    "    \n",
    "    accuracy_promedio = np.mean(ACCURACY_SCORES)\n",
    "    auc_promedio = np.mean(AUC_SCORES)\n",
    "    \n",
    "    print(f'Accuracy Promedio: {accuracy_promedio:.4f}')\n",
    "    print(f'AUC-ROC Promedio: {auc_promedio:.4f}')\n",
    "    \n",
    "    return accuracy_promedio, auc_promedio"
   ]
  },
  {
   "cell_type": "code",
   "execution_count": 31,
   "id": "b8a2a671-14ef-43a3-9cd0-e0ef644f8e08",
   "metadata": {},
   "outputs": [],
   "source": [
    "#Ejercicio 3 \n",
    "def evalua_config(model_class, hyperparameter_configs, k, X, y):\n",
    "    mejor_configuracion = None #Tenemos que inicializar la variable para luego poder almacenar la mejor configuracion y el menor error.\n",
    "    error_minimo = float('inf') \n",
    "\n",
    "#Como dice la consgna iteramos hiperparámetros\n",
    "    for configuracion in hyperparameter_configs:\n",
    "        print(f\"Evaluar la configuracion: {configuracion}\")\n",
    "        \n",
    "        modelo = model_class(**configuracion)\n",
    "#Obtenemos el error promedio con cross validation usamdo el ECM\n",
    "        errores = []\n",
    "        for train_index, test_index in KFOLD.split(X):\n",
    "            X_train, X_test = X.iloc[train_index], X.iloc[test_index]\n",
    "            y_train, y_test = y.iloc[train_index], y.iloc[test_index]\n",
    "            \n",
    "            model.fit(X_train, y_train)\n",
    "            y_pred = model.predict(X_test)\n",
    "            error = mean_squared_error(y_test, y_pred)\n",
    "            errores.append(error)\n",
    "        \n",
    "        error_promedio = np.mean(errores)\n",
    "\n",
    "\n",
    "        if error_promedio < error_minimo: #Por si encontramos un error menor \n",
    "            error_minimo = error_promedio\n",
    "            mejor_configuracion = configuracion\n",
    "\n",
    "#Printiamos la mejor configuración que hayamos encontrado y el menor error\n",
    "    print(\"La mejor configuración es:\", mejor_configuracion)\n",
    "    print(\"Error mínimo:\", error_minimo)\n",
    "    \n",
    "#La funcion nos devuelve la configuracion que genere menor error.\n",
    "    return mejor_configuracion"
   ]
  },
  {
   "cell_type": "code",
   "execution_count": 32,
   "id": "b3ad8b3d-4cf3-4643-a1ac-ba4c5f0ecbf4",
   "metadata": {},
   "outputs": [],
   "source": [
    "from sklearn.linear_model import LogisticRegression\n",
    "from sklearn.discriminant_analysis import LinearDiscriminantAnalysis\n",
    "from sklearn.neighbors import KNeighborsClassifier\n",
    "from sklearn.metrics import accuracy_score, roc_auc_score, confusion_matrix\n",
    "from sklearn.model_selection import KFold\n",
    "from statistics import mean"
   ]
  },
  {
   "cell_type": "code",
   "execution_count": 33,
   "id": "3c4fe896-f0d4-422e-ba1e-bd4e39b08fd9",
   "metadata": {},
   "outputs": [],
   "source": [
    "#Ejercicio 4\n",
    "\n",
    "#Usamos las funciones de los ejercicios anteriores. \n",
    "# Función para evaluar múltiples métodos. \n",
    "\n",
    "def evalua_multiples_metodos(X_train, y_train, X_test, y_test):\n",
    "    results = []\n",
    "    \n",
    "# Regresión Logística\n",
    "    logreg_hyperpar = [\n",
    "        {'penalty': 'l1', 'C': 0.1},\n",
    "        {'penalty': 'l2', 'C': 0.01},\n",
    "        {'penalty': 'none'}\n",
    "    ]\n",
    "    mejor_configuracion_logreg = evalua_config(LogisticRegression, logreg_hyperpar, 5, X_train, y_train)\n",
    "    logreg_model = LogisticRegression(**mejor_configuracion_logreg)\n",
    "    logreg_metricas = evalua_metodo(logreg_model, X_train, y_train, X_test, y_test)\n",
    "    results.append({'Modelo': 'Reg Logística', 'Configuración': mejor_configuracion_logreg, **logreg_metricas})\n",
    "    \n",
    "    # Análisis de Discriminante Lineal\n",
    "    ADL_model = LinearDiscriminantAnalysis()\n",
    "    ADL_metricas = evalua_metodo(ADL_model, X_train, y_train, X_test, y_test)\n",
    "    results.append({'Modelo': 'Análisis Discriminante Lineal', 'Configuración': None, **ADL_metricas})\n",
    "    \n",
    "    # KNN\n",
    "    knn_hyperpar = [\n",
    "        {'n_neighbors': 3, 'weights': 'uniform'},\n",
    "        {'n_neighbors': 5, 'weights': 'distance'}\n",
    "    ]\n",
    "    mejor_configuracion_knn = evalua_config(KNeighborsClassifier, knn_hyperpar, 5, X_train, y_train)\n",
    "    knn_model = KNeighborsClassifier(**mejor_configuracion_knn)\n",
    "    knn_metricas = evalua_metodo(knn_model, X_train, y_train, X_test, y_test)\n",
    "    results.append({'Modelo': 'KNN', 'Configuración': mejor_configuracion_knn, **knn_metricas})\n",
    "    \n",
    "#Por ultimo, convertimos los resultados a una base de datos \n",
    "    df_results = pd.DataFrame(results)\n",
    "    \n",
    "    return df_results"
   ]
  },
  {
   "cell_type": "code",
   "execution_count": 34,
   "id": "f36b4829-96ae-443b-8634-81b829ca77cc",
   "metadata": {},
   "outputs": [],
   "source": [
    "# Parte 3"
   ]
  },
  {
   "cell_type": "code",
   "execution_count": 35,
   "id": "68665cce-b370-438c-8142-aa374d7c78ac",
   "metadata": {},
   "outputs": [],
   "source": [
    "#Ejercicio 1\n",
    "#Trabajamos con las bases de datos : \"respondieron\", \"no respondieron\"\n",
    "#Cargamos las bases\n",
    "respondieron = pd.read_excel('respondieron.xlsx')\n",
    "norespondieron = pd.read_excel('norespondieron.xlsx')"
   ]
  },
  {
   "cell_type": "code",
   "execution_count": 36,
   "id": "cb0595b8-8cd7-434f-9a4e-6562f80f99d4",
   "metadata": {},
   "outputs": [],
   "source": [
    "# Agregaamos la columna 'pobre' con la condicion\n",
    "respondieron['pobre'] = (respondieron['ITF_x'] < respondieron['ingreso_necesario']).astype(int)"
   ]
  },
  {
   "cell_type": "code",
   "execution_count": 37,
   "id": "ec5263f3-a7cc-4c4e-b676-9e16e801e776",
   "metadata": {},
   "outputs": [],
   "source": [
    "# Eliminamos las variables relacionadas a ingresos\n",
    "columnas_eliminar = [\n",
    "    'PP06A', 'PP06C', 'PP06D', 'PP06E', 'PP06H',\n",
    "    'PP08D1', 'PP08D4', 'PP08F1', 'PP08F2', 'PP08J1',\n",
    "    'PP08J2', 'PP08J3', 'P21', 'DECOCUR', 'RDECOCUR',\n",
    "    'GDECOCUR', 'ADECOCUR', 'PONDIIO', 'TOT_P12', 'P47T',\n",
    "    'DECINDR', 'RDECINDR', 'GDECINDR', 'ADECINDR', 'PONDII',\n",
    "    'V2_M', 'V3_M', 'V4_M', 'V5_M', 'V8_M', 'V9_M', 'V10_M',\n",
    "    'V11_M', 'V12_M', 'V18_M', 'V19_AM', 'V21_M', 'T_VI',\n",
    "    'ITF_x', 'DECIFR_x', 'RDECIFR_x', 'GDECIFR_x', 'ADECIFR_x',\n",
    "    'IPCF_x', 'DECCFR_x', 'RDECCFR_x', 'GDECCFR_x', 'ADECCFR_x',\n",
    "    'PONDIH_x', 'adulto_equiv', 'ad_equiv_hogar', 'ingreso_necesario'\n",
    "]\n",
    "\n",
    "respondieron = respondieron.drop(columns=columnas_eliminar, errors='ignore')\n",
    "\n",
    "\n",
    "columnas_eliminar = [\n",
    "    'PP06A', 'PP06C', 'PP06D', 'PP06E', 'PP06H',\n",
    "    'PP08D1', 'PP08D4', 'PP08F1', 'PP08F2', 'PP08J1',\n",
    "    'PP08J2', 'PP08J3', 'P21', 'DECOCUR', 'RDECOCUR',\n",
    "    'GDECOCUR', 'ADECOCUR', 'PONDIIO', 'TOT_P12', 'P47T',\n",
    "    'DECINDR', 'RDECINDR', 'GDECINDR', 'ADECINDR', 'PONDII',\n",
    "    'V2_M', 'V3_M', 'V4_M', 'V5_M', 'V8_M', 'V9_M', 'V10_M',\n",
    "    'V11_M', 'V12_M', 'V18_M', 'V19_AM', 'V21_M', 'T_VI',\n",
    "    'ITF_x', 'DECIFR_x', 'RDECIFR_x', 'GDECIFR_x', 'ADECIFR_x',\n",
    "    'IPCF_x', 'DECCFR_x', 'RDECCFR_x', 'GDECCFR_x', 'ADECCFR_x',\n",
    "    'PONDIH_x', 'adulto_equiv', 'ad_equiv_hogar'\n",
    "]\n",
    "norespondieron = norespondieron.drop(columns=columnas_eliminar, errors='ignore')"
   ]
  },
  {
   "cell_type": "code",
   "execution_count": 38,
   "id": "11eefb96-0103-493a-bc45-d9fff6eb9ac2",
   "metadata": {},
   "outputs": [],
   "source": [
    "pobre_respondieron = respondieron['pobre']\n",
    "X_respondieron = respondieron.drop(columns=['pobre'])\n",
    "X_respondieron['cons'] = 1"
   ]
  },
  {
   "cell_type": "code",
   "execution_count": 39,
   "id": "c2c66398-fb27-4546-a35d-9eb52404c2ee",
   "metadata": {},
   "outputs": [],
   "source": [
    "from sklearn.model_selection import train_test_split, GridSearchCV\n",
    "from sklearn.linear_model import LogisticRegression\n",
    "from sklearn.metrics import classification_report\n",
    "from sklearn.impute import SimpleImputer"
   ]
  },
  {
   "cell_type": "code",
   "execution_count": 40,
   "id": "cff25e26",
   "metadata": {},
   "outputs": [
    {
     "name": "stdout",
     "output_type": "stream",
     "text": [
      "Mejores hiperparámetros: {'C': 0.01}\n",
      "Reporte de clasificación:\n",
      "              precision    recall  f1-score   support\n",
      "\n",
      "           0       0.95      0.97      0.96       799\n",
      "           1       0.95      0.92      0.94       522\n",
      "\n",
      "    accuracy                           0.95      1321\n",
      "   macro avg       0.95      0.95      0.95      1321\n",
      "weighted avg       0.95      0.95      0.95      1321\n",
      "\n"
     ]
    }
   ],
   "source": [
    "# Ejercicio 2 \n",
    "\n",
    "# Convertir variables categóricas en variables dummy\n",
    "X_respondieron = pd.get_dummies(X_respondieron, drop_first=True)\n",
    "\n",
    "# Imputar valores faltantes\n",
    "imputer = SimpleImputer(strategy='mean')\n",
    "X_respondieron = imputer.fit_transform(X_respondieron)\n",
    "\n",
    "# Dividir los datos en train y test\n",
    "X_train, X_test, y_train, y_test = train_test_split(X_respondieron, pobre_respondieron, test_size=0.3, random_state=42)\n",
    "\n",
    "# Definir el modelo de regresión logística con regularización L2\n",
    "log_reg = LogisticRegression(solver='liblinear')\n",
    "\n",
    "# Definir los hiperparámetros y los valores de λ (C en LogisticRegression)\n",
    "param_grid = {\n",
    "    'C': [0.01, 0.1, 1, 10, 100]  # C es el inverso de λ\n",
    "}\n",
    "\n",
    "# Usar GridSearchCV para encontrar los mejores hiperparámetros\n",
    "grid_search = GridSearchCV(log_reg, param_grid, cv=5, scoring='accuracy')\n",
    "\n",
    "# Entrenar el modelo\n",
    "grid_search.fit(X_train, y_train)\n",
    "\n",
    "# Evaluar el modelo\n",
    "best_model = grid_search.best_estimator_\n",
    "y_pred = best_model.predict(X_test)\n",
    "\n",
    "# Imprimir los resultados\n",
    "print(\"Mejores hiperparámetros:\", grid_search.best_params_)\n",
    "print(\"Reporte de clasificación:\")\n",
    "print(classification_report(y_test, y_pred))"
   ]
  },
  {
   "cell_type": "code",
   "execution_count": 41,
   "id": "87975266-e37b-40ff-8e68-8499c376d6b1",
   "metadata": {},
   "outputs": [],
   "source": [
    "from sklearn.linear_model import LogisticRegressionCV"
   ]
  },
  {
   "cell_type": "code",
   "execution_count": 42,
   "id": "ce4b222b-a75f-4e6e-ba5c-b79dff03a82a",
   "metadata": {},
   "outputs": [
    {
     "data": {
      "image/png": "[encoded data removed]",
      "text/plain": [
       "<Figure size 640x480 with 1 Axes>"
      ]
     },
     "metadata": {},
     "output_type": "display_data"
    },
    {
     "data": {
      "image/png": "[encoded data removed]",
      "text/plain": [
       "<Figure size 640x480 with 1 Axes>"
      ]
     },
     "metadata": {},
     "output_type": "display_data"
    }
   ],
   "source": [
    "#Ejercicio 3 y 4 teoricos -\n",
    "#Ejercicio 5 Hacemos el barrido de λ usando regresión logística con Ridge y LASSO.\n",
    "\n",
    "# valores de lambda \n",
    "lambdas = 10.0 ** np.arange(-5, 6)\n",
    "\n",
    "# 10-fold CV\n",
    "cv = 10\n",
    "\n",
    "# con Ridge\n",
    "ridge_log_reg = LogisticRegressionCV(Cs=lambdas, cv=cv, penalty='l2', solver='liblinear', scoring='neg_mean_squared_error')\n",
    "ridge_log_reg.fit(X_train, y_train)\n",
    "ridge_errors = cross_val_score(ridge_log_reg, X_train, y_train, cv=cv, scoring='neg_mean_squared_error')\n",
    "ridge_errors = -ridge_errors\n",
    "\n",
    "#regresion logistica con LASSO\n",
    "lasso_log_reg = LogisticRegressionCV(Cs=lambdas, cv=cv, penalty='l1', solver='liblinear', scoring='neg_mean_squared_error')\n",
    "lasso_log_reg.fit(X_train, y_train)\n",
    "lasso_errors = cross_val_score(lasso_log_reg, X_train, y_train, cv=cv, scoring='neg_mean_squared_error')\n",
    "lasso_errors = -lasso_errors\n",
    "\n",
    "#generamos box-plots mostrando la distribucio ́n del error de prediccion para cada λ.\\\n",
    "sns.boxplot(data=[ridge_errors, lasso_errors])\n",
    "plt.xticks([0, 1], ['Ridge', 'LASSO'])\n",
    "plt.ylabel('Validation Error')\n",
    "plt.title('Validation Error Distribution for Ridge and LASSO')\n",
    "plt.show()\n",
    "\n",
    "#para la regularizacion LASSO generamos un box-plot similar, pero ahora graficando la proporcion de variables ignoradas por el modelo en funcion de λ\n",
    "lasso_coefs = np.mean(lasso_log_reg.coefs_paths_[1], axis=0)\n",
    "proportion_ignored = np.sum(lasso_coefs == 0, axis=1) / lasso_coefs.shape[1]\n",
    "\n",
    "sns.boxplot(data=proportion_ignored)\n",
    "plt.xticks(np.arange(len(lambdas)), lambdas)\n",
    "plt.ylabel('Proportion of Ignored Variables')\n",
    "plt.xlabel('Lambda')\n",
    "plt.title('Proportion of Ignored Variables by LASSO')\n",
    "plt.show()\n",
    "\n",
    "\n"
   ]
  },
  {
   "cell_type": "code",
   "execution_count": 43,
   "id": "89b645f6",
   "metadata": {},
   "outputs": [
    {
     "name": "stdout",
     "output_type": "stream",
     "text": [
      "Índices de las variables descartadas por LASSO: [  25   26   27 ... 5721 5722 5723]\n"
     ]
    }
   ],
   "source": [
    "#Ejercicio 6\n",
    "\n",
    "#coeficientes de la regularización L1 (LASSO)\n",
    "lasso_log_reg = LogisticRegressionCV(cv=5, penalty='l1', solver='liblinear', scoring='accuracy').fit(X_train, y_train)\n",
    " \n",
    "lambdas = lasso_log_reg.Cs_\n",
    "\n",
    "best_lambda_idx = np.argmin(lasso_log_reg.C_)\n",
    "\n",
    "#mejor valor de λ\n",
    "best_lambda = lambdas[best_lambda_idx]\n",
    "\n",
    "#coef. correspondientes al mejor valor de λ\n",
    "best_lasso_coefs = lasso_log_reg.coef_[best_lambda_idx]\n",
    "\n",
    "variables_descartadas_indices = np.where(best_lasso_coefs == 0)[0]\n",
    "print(\"Índices de las variables descartadas por LASSO:\", variables_descartadas_indices)"
   ]
  },
  {
   "cell_type": "code",
   "execution_count": 44,
   "id": "c18eeb08",
   "metadata": {},
   "outputs": [
    {
     "name": "stdout",
     "output_type": "stream",
     "text": [
      "ECM promedio para Ridge: 0.037987012987012986\n",
      "ECM promedio para LASSO: 0.014285714285714285\n",
      "LASSO funcionó mejor que Ridge en términos de ECM.\n"
     ]
    }
   ],
   "source": [
    "#Ejercicio 7\n",
    "\n",
    "def cross_val_ecm(model, X, y, cv):\n",
    "    scores = cross_val_score(model, X, y, cv=cv, scoring='neg_mean_squared_error')\n",
    "    return -scores\n",
    "\n",
    "#ECM para Ridge y LASSO\n",
    "ridge_ecm = cross_val_ecm(ridge_log_reg, X_train, y_train, cv=cv)\n",
    "lasso_ecm = cross_val_ecm(lasso_log_reg, X_train, y_train, cv=cv)\n",
    "\n",
    "#ECM promedio\n",
    "ridge_ecm_mean = np.mean(ridge_ecm)\n",
    "lasso_ecm_mean = np.mean(lasso_ecm)\n",
    "\n",
    "print(f\"ECM promedio para Ridge: {ridge_ecm_mean}\")\n",
    "print(f\"ECM promedio para LASSO: {lasso_ecm_mean}\")\n",
    "\n",
    "if ridge_ecm_mean < lasso_ecm_mean:\n",
    "    print(\"Ridge funcionó mejor que LASSO en términos de ECM.\")\n",
    "else:\n",
    "    print(\"LASSO funcionó mejor que Ridge en términos de ECM.\")\n"
   ]
  },
  {
   "cell_type": "code",
   "execution_count": 45,
   "id": "94c64fa1-44ab-49cf-a35b-f019862cf2f2",
   "metadata": {},
   "outputs": [],
   "source": [
    "norespondieron = pd.get_dummies(respondieron, drop_first=True)"
   ]
  },
  {
   "cell_type": "code",
   "execution_count": 46,
   "id": "1db512c5",
   "metadata": {},
   "outputs": [
    {
     "name": "stderr",
     "output_type": "stream",
     "text": [
      "C:\\Users\\vicen\\anaconda3\\Lib\\site-packages\\sklearn\\base.py:486: UserWarning: X has feature names, but LogisticRegressionCV was fitted without feature names\n",
      "  warnings.warn(\n"
     ]
    },
    {
     "name": "stdout",
     "output_type": "stream",
     "text": [
      "Proporción de pobres predichos en norespondieron: 0.4017268802544876\n"
     ]
    }
   ],
   "source": [
    "predicciones_pobreza = lasso_log_reg.predict(norespondieron)\n",
    "proporcion_pobres_predichos = np.mean(predicciones_pobreza)\n",
    "print(\"Proporción de pobres predichos en norespondieron:\", proporcion_pobres_predichos)"
   ]
  }
 ],
 "metadata": {
  "kernelspec": {
   "display_name": "Python 3 (ipykernel)",
   "language": "python",
   "name": "python3"
  },
  "language_info": {
   "codemirror_mode": {
    "name": "ipython",
    "version": 3
   },
   "file_extension": ".py",
   "mimetype": "text/x-python",
   "name": "python",
   "nbconvert_exporter": "python",
   "pygments_lexer": "ipython3",
   "version": "3.11.7"
  }
 },
 "nbformat": 4,
 "nbformat_minor": 5
}
