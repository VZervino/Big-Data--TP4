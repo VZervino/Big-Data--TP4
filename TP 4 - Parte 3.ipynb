{
 "cells": [
  {
   "cell_type": "markdown",
   "id": "0b50d0eb-f24f-4f3c-9e86-472eb838cd93",
   "metadata": {},
   "source": [
    "Trabajo Practico 4 - Parte 3 : : Clasificacion y regularizacion\n",
    "Sofia Ellenberg, Sophie Schulzen y Vicente Zervino\n"
   ]
  },
  {
   "cell_type": "code",
   "execution_count": 2,
   "id": "8c8b6e97-cf38-4f65-80ce-3fce8e211df5",
   "metadata": {},
   "outputs": [],
   "source": [
    "import pandas as pd"
   ]
  },
  {
   "cell_type": "code",
   "execution_count": 15,
   "id": "20575e08-86a5-4216-8621-f6fb7d35533d",
   "metadata": {},
   "outputs": [],
   "source": [
    "#Ejercicio 1\n",
    "#Trabajamos con las bases de datos : \"respondieron\", \"no respondieron\"\n",
    "#Cargamos las bases\n",
    "respondieron = pd.read_excel('respondieron.xlsx')\n",
    "norespondieron = pd.read_excel('norespondieron.xlsx')\n"
   ]
  },
  {
   "cell_type": "code",
   "execution_count": 14,
   "id": "50c4f59f-5201-4204-89e3-9dc41a20eda6",
   "metadata": {},
   "outputs": [
    {
     "name": "stdout",
     "output_type": "stream",
     "text": [
      "['CODUSU', 'ANO4_x', 'TRIMESTRE_x', 'NRO_HOGAR', 'COMPONENTE', 'H15', 'REGION_x', 'MAS_500_x', 'AGLOMERADO_x', 'PONDERA_x', 'CH03', 'CH04', 'CH05', 'CH06', 'CH07', 'CH08', 'CH09', 'CH10', 'CH11', 'CH12', 'CH13', 'CH14', 'CH15', 'CH16', 'NIVEL_ED', 'ESTADO', 'CAT_OCUP', 'CAT_INAC', 'PP02C1', 'PP02C2', 'PP02C3', 'PP02C4', 'PP02C5', 'PP02C6', 'PP02C7', 'PP02C8', 'PP02E', 'PP02H', 'PP02I', 'P21', 'DECOCUR', 'RDECOCUR', 'GDECOCUR', 'ADECOCUR', 'PONDIIO', 'TOT_P12', 'P47T', 'DECINDR', 'RDECINDR', 'GDECINDR', 'ADECINDR', 'PONDII', 'V2_M', 'V3_M', 'V4_M', 'V5_M', 'V8_M', 'V9_M', 'V10_M', 'V11_M', 'V12_M', 'V18_M', 'V19_AM', 'V21_M', 'T_VI', 'ITF_x', 'DECIFR_x', 'RDECIFR_x', 'GDECIFR_x', 'ADECIFR_x', 'IPCF_x', 'DECCFR_x', 'RDECCFR_x', 'GDECCFR_x', 'ADECCFR_x', 'PONDIH_x', 'ANO4_y', 'TRIMESTRE_y', 'REALIZADA', 'REGION_y', 'MAS_500_y', 'AGLOMERADO_y', 'PONDERA_y', 'IV1', 'IV2', 'IV3', 'IV4', 'IV5', 'IV6', 'IV7', 'IV8', 'IV9', 'IV10', 'IV11', 'IV12_1', 'IV12_2', 'IV12_3', 'II1', 'II2', 'II3', 'II3_1', 'II4_1', 'II4_2', 'II4_3', 'II5', 'II5_1', 'II6', 'II6_1', 'II7', 'II8', 'II9', 'V1', 'V2', 'V21', 'V22', 'V3', 'V4', 'V5', 'V6', 'V7', 'V8', 'V9', 'V10', 'V11', 'V12', 'V13', 'V14', 'V15', 'V16', 'V17', 'V18', 'V19_A', 'V19_B', 'IX_TOT', 'IX_MEN10', 'IX_MAYEQ10', 'ITF_y', 'DECIFR_y', 'RDECIFR_y', 'GDECIFR_y', 'ADECIFR_y', 'IPCF_y', 'DECCFR_y', 'RDECCFR_y', 'GDECCFR_y', 'ADECCFR_y', 'PONDIH_y', 'VII1_1', 'VII1_2', 'VII2_1', 'VII2_2', 'VII2_3', 'VII2_4', 'proporcion_niños', 'proporcion_trabajando', 'personas_por_ambiente', 'adulto_equiv', 'ad_equiv_hogar', 'ingreso_necesario', 'pobre']\n",
      "['CODUSU', 'ANO4_x', 'TRIMESTRE_x', 'NRO_HOGAR', 'COMPONENTE', 'H15', 'REGION_x', 'MAS_500_x', 'AGLOMERADO_x', 'PONDERA_x', 'CH03', 'CH04', 'CH05', 'CH06', 'CH07', 'CH08', 'CH09', 'CH10', 'CH11', 'CH12', 'CH13', 'CH14', 'CH15', 'CH16', 'NIVEL_ED', 'ESTADO', 'CAT_OCUP', 'CAT_INAC', 'PP02C1', 'PP02C2', 'PP02C3', 'PP02C4', 'PP02C5', 'PP02C6', 'PP02C7', 'PP02C8', 'PP02E', 'PP02H', 'PP02I', 'P21', 'DECOCUR', 'RDECOCUR', 'GDECOCUR', 'ADECOCUR', 'PONDIIO', 'TOT_P12', 'P47T', 'DECINDR', 'RDECINDR', 'GDECINDR', 'ADECINDR', 'PONDII', 'V2_M', 'V3_M', 'V4_M', 'V5_M', 'V8_M', 'V9_M', 'V10_M', 'V11_M', 'V12_M', 'V18_M', 'V19_AM', 'V21_M', 'T_VI', 'ITF_x', 'DECIFR_x', 'RDECIFR_x', 'GDECIFR_x', 'ADECIFR_x', 'IPCF_x', 'DECCFR_x', 'RDECCFR_x', 'GDECCFR_x', 'ADECCFR_x', 'PONDIH_x', 'ANO4_y', 'TRIMESTRE_y', 'REALIZADA', 'REGION_y', 'MAS_500_y', 'AGLOMERADO_y', 'PONDERA_y', 'IV1', 'IV2', 'IV3', 'IV4', 'IV5', 'IV6', 'IV7', 'IV8', 'IV9', 'IV10', 'IV11', 'IV12_1', 'IV12_2', 'IV12_3', 'II1', 'II2', 'II3', 'II3_1', 'II4_1', 'II4_2', 'II4_3', 'II5', 'II5_1', 'II6', 'II6_1', 'II7', 'II8', 'II9', 'V1', 'V2', 'V21', 'V22', 'V3', 'V4', 'V5', 'V6', 'V7', 'V8', 'V9', 'V10', 'V11', 'V12', 'V13', 'V14', 'V15', 'V16', 'V17', 'V18', 'V19_A', 'V19_B', 'IX_TOT', 'IX_MEN10', 'IX_MAYEQ10', 'ITF_y', 'DECIFR_y', 'RDECIFR_y', 'GDECIFR_y', 'ADECIFR_y', 'IPCF_y', 'DECCFR_y', 'RDECCFR_y', 'GDECCFR_y', 'ADECCFR_y', 'PONDIH_y', 'VII1_1', 'VII1_2', 'VII2_1', 'VII2_2', 'VII2_3', 'VII2_4', 'proporcion_niños', 'proporcion_trabajando', 'personas_por_ambiente', 'adulto_equiv', 'ad_equiv_hogar']\n"
     ]
    }
   ],
   "source": [
    "print(list(respondieron.columns))\n",
    "print(list(norespondieron.columns))"
   ]
  },
  {
   "cell_type": "code",
   "execution_count": 16,
   "id": "9346a45f-db12-43cd-bb64-64118bb39847",
   "metadata": {},
   "outputs": [],
   "source": [
    "# Agregaamos la columna 'pobre' con la condicion\n",
    "respondieron['pobre'] = (respondieron['ITF_x'] < respondieron['ingreso_necesario']).astype(int)"
   ]
  },
  {
   "cell_type": "code",
   "execution_count": 17,
   "id": "e38b6297-06c7-4241-927e-0e258eaed3aa",
   "metadata": {},
   "outputs": [],
   "source": [
    "# Eliminamos las variables relacionadas a ingresos\n",
    "columnas_eliminar = [\n",
    "    'PP06A', 'PP06C', 'PP06D', 'PP06E', 'PP06H',\n",
    "    'PP08D1', 'PP08D4', 'PP08F1', 'PP08F2', 'PP08J1',\n",
    "    'PP08J2', 'PP08J3', 'P21', 'DECOCUR', 'RDECOCUR',\n",
    "    'GDECOCUR', 'ADECOCUR', 'PONDIIO', 'TOT_P12', 'P47T',\n",
    "    'DECINDR', 'RDECINDR', 'GDECINDR', 'ADECINDR', 'PONDII',\n",
    "    'V2_M', 'V3_M', 'V4_M', 'V5_M', 'V8_M', 'V9_M', 'V10_M',\n",
    "    'V11_M', 'V12_M', 'V18_M', 'V19_AM', 'V21_M', 'T_VI',\n",
    "    'ITF_x', 'DECIFR_x', 'RDECIFR_x', 'GDECIFR_x', 'ADECIFR_x',\n",
    "    'IPCF_x', 'DECCFR_x', 'RDECCFR_x', 'GDECCFR_x', 'ADECCFR_x',\n",
    "    'PONDIH_x', 'adulto_equiv', 'ad_equiv_hogar', 'ingreso_necesario'\n",
    "]\n",
    "\n",
    "respondieron = respondieron.drop(columns=columnas_eliminar, errors='ignore')\n",
    "\n",
    "\n",
    "columnas_eliminar = [\n",
    "    'PP06A', 'PP06C', 'PP06D', 'PP06E', 'PP06H',\n",
    "    'PP08D1', 'PP08D4', 'PP08F1', 'PP08F2', 'PP08J1',\n",
    "    'PP08J2', 'PP08J3', 'P21', 'DECOCUR', 'RDECOCUR',\n",
    "    'GDECOCUR', 'ADECOCUR', 'PONDIIO', 'TOT_P12', 'P47T',\n",
    "    'DECINDR', 'RDECINDR', 'GDECINDR', 'ADECINDR', 'PONDII',\n",
    "    'V2_M', 'V3_M', 'V4_M', 'V5_M', 'V8_M', 'V9_M', 'V10_M',\n",
    "    'V11_M', 'V12_M', 'V18_M', 'V19_AM', 'V21_M', 'T_VI',\n",
    "    'ITF_x', 'DECIFR_x', 'RDECIFR_x', 'GDECIFR_x', 'ADECIFR_x',\n",
    "    'IPCF_x', 'DECCFR_x', 'RDECCFR_x', 'GDECCFR_x', 'ADECCFR_x',\n",
    "    'PONDIH_x', 'adulto_equiv', 'ad_equiv_hogar'\n",
    "]\n",
    "norespondieron = norespondieron.drop(columns=columnas_eliminar, errors='ignore')"
   ]
  },
  {
   "cell_type": "code",
   "execution_count": 19,
   "id": "c4fceb12-cd6e-4138-9000-dd78e0160b98",
   "metadata": {},
   "outputs": [],
   "source": [
    "pobre_respondieron = respondieron['pobre']\n",
    "X_respondieron = respondieron.drop(columns=['pobre'])\n",
    "X_respondieron['cons'] = 1"
   ]
  },
  {
   "cell_type": "code",
   "execution_count": 20,
   "id": "e37b1392-2e19-4bc2-b713-be2bd74e0573",
   "metadata": {},
   "outputs": [],
   "source": [
    "from sklearn.model_selection import train_test_split, GridSearchCV\n",
    "from sklearn.linear_model import LogisticRegression\n",
    "from sklearn.metrics import classification_report"
   ]
  },
  {
   "cell_type": "code",
   "execution_count": null,
   "id": "f1fb2674-e1d1-4b89-be11-1671aa6b48ef",
   "metadata": {},
   "outputs": [],
   "source": [
    "# Dividir los datos en train y test\n",
    "X_train, X_test, y_train, y_test = train_test_split(X_respondieron, pobre_respondieron, test_size=0.3, random_state=42)\n",
    "\n",
    "# Definir el modelo de regresión logística con regularización L2\n",
    "log_reg = LogisticRegression(solver='liblinear')\n",
    "\n",
    "# Definir los hiperparámetros y los valores de λ (C en LogisticRegression)\n",
    "param_grid = {\n",
    "    'C': [0.01, 0.1, 1, 10, 100]  # C es el inverso de λ\n",
    "}\n",
    "\n",
    "# Usar GridSearchCV para encontrar los mejores hiperparámetros\n",
    "grid_search = GridSearchCV(log_reg, param_grid, cv=5, scoring='accuracy')\n",
    "\n",
    "# Entrenar el modelo\n",
    "grid_search.fit(X_train, y_train)\n",
    "\n",
    "# Evaluar el modelo\n",
    "best_model = grid_search.best_estimator_\n",
    "y_pred = best_model.predict(X_test)\n",
    "\n",
    "# Imprimir los resultados\n",
    "print(\"Mejores hiperparámetros:\", grid_search.best_params_)\n",
    "print(\"Reporte de clasificación:\")\n",
    "print(classification_report(y_test, y_pred))"
   ]
  }
 ],
 "metadata": {
  "kernelspec": {
   "display_name": "Python 3 (ipykernel)",
   "language": "python",
   "name": "python3"
  },
  "language_info": {
   "codemirror_mode": {
    "name": "ipython",
    "version": 3
   },
   "file_extension": ".py",
   "mimetype": "text/x-python",
   "name": "python",
   "nbconvert_exporter": "python",
   "pygments_lexer": "ipython3",
   "version": "3.11.7"
  }
 },
 "nbformat": 4,
 "nbformat_minor": 5
}
